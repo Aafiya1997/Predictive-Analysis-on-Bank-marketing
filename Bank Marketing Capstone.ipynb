{
 "cells": [
  {
   "cell_type": "code",
   "execution_count": 1,
   "id": "50282011",
   "metadata": {},
   "outputs": [],
   "source": [
    "import pandas as pd #to read csv file in python\n",
    "import matplotlib.pyplot as plt #for visualization\n",
    "import seaborn as sb #use to visualize ranndom distribution\n",
    "import warnings #to ignore warning\n",
    "warnings.filterwarnings('ignore')"
   ]
  },
  {
   "cell_type": "code",
   "execution_count": 2,
   "id": "9566be75",
   "metadata": {
    "scrolled": true
   },
   "outputs": [],
   "source": [
    "df = pd.read_csv(\"C:/Users/AAFIYA/OneDrive/Desktop/DAB402 - Capstone/bank-full.csv\", sep = \";\") #here sep is to add seperator between strings  \n"
   ]
  },
  {
   "cell_type": "markdown",
   "id": "f59a6b96",
   "metadata": {},
   "source": [
    "# To display columns"
   ]
  },
  {
   "cell_type": "code",
   "execution_count": 3,
   "id": "2c9606e2",
   "metadata": {},
   "outputs": [
    {
     "data": {
      "text/plain": [
       "Index(['age', 'job', 'marital', 'education', 'default', 'balance', 'housing',\n",
       "       'loan', 'contact', 'day', 'month', 'duration', 'campaign', 'pdays',\n",
       "       'previous', 'poutcome', 'y'],\n",
       "      dtype='object')"
      ]
     },
     "execution_count": 3,
     "metadata": {},
     "output_type": "execute_result"
    }
   ],
   "source": [
    "df.columns "
   ]
  },
  {
   "cell_type": "markdown",
   "id": "d635be20",
   "metadata": {},
   "source": [
    "# To define structure of dataset"
   ]
  },
  {
   "cell_type": "code",
   "execution_count": 4,
   "id": "26aed934",
   "metadata": {},
   "outputs": [
    {
     "data": {
      "text/plain": [
       "(45211, 17)"
      ]
     },
     "execution_count": 4,
     "metadata": {},
     "output_type": "execute_result"
    }
   ],
   "source": [
    "df.shape "
   ]
  },
  {
   "cell_type": "markdown",
   "id": "9e1994d4",
   "metadata": {},
   "source": [
    "# To show first 10 records of dataset"
   ]
  },
  {
   "cell_type": "code",
   "execution_count": 5,
   "id": "36fe0f11",
   "metadata": {},
   "outputs": [
    {
     "data": {
      "text/html": [
       "<div>\n",
       "<style scoped>\n",
       "    .dataframe tbody tr th:only-of-type {\n",
       "        vertical-align: middle;\n",
       "    }\n",
       "\n",
       "    .dataframe tbody tr th {\n",
       "        vertical-align: top;\n",
       "    }\n",
       "\n",
       "    .dataframe thead th {\n",
       "        text-align: right;\n",
       "    }\n",
       "</style>\n",
       "<table border=\"1\" class=\"dataframe\">\n",
       "  <thead>\n",
       "    <tr style=\"text-align: right;\">\n",
       "      <th></th>\n",
       "      <th>age</th>\n",
       "      <th>job</th>\n",
       "      <th>marital</th>\n",
       "      <th>education</th>\n",
       "      <th>default</th>\n",
       "      <th>balance</th>\n",
       "      <th>housing</th>\n",
       "      <th>loan</th>\n",
       "      <th>contact</th>\n",
       "      <th>day</th>\n",
       "      <th>month</th>\n",
       "      <th>duration</th>\n",
       "      <th>campaign</th>\n",
       "      <th>pdays</th>\n",
       "      <th>previous</th>\n",
       "      <th>poutcome</th>\n",
       "      <th>y</th>\n",
       "    </tr>\n",
       "  </thead>\n",
       "  <tbody>\n",
       "    <tr>\n",
       "      <th>0</th>\n",
       "      <td>58</td>\n",
       "      <td>management</td>\n",
       "      <td>married</td>\n",
       "      <td>tertiary</td>\n",
       "      <td>no</td>\n",
       "      <td>2143</td>\n",
       "      <td>yes</td>\n",
       "      <td>no</td>\n",
       "      <td>unknown</td>\n",
       "      <td>5</td>\n",
       "      <td>may</td>\n",
       "      <td>261</td>\n",
       "      <td>1</td>\n",
       "      <td>-1</td>\n",
       "      <td>0</td>\n",
       "      <td>unknown</td>\n",
       "      <td>no</td>\n",
       "    </tr>\n",
       "    <tr>\n",
       "      <th>1</th>\n",
       "      <td>44</td>\n",
       "      <td>technician</td>\n",
       "      <td>single</td>\n",
       "      <td>secondary</td>\n",
       "      <td>no</td>\n",
       "      <td>29</td>\n",
       "      <td>yes</td>\n",
       "      <td>no</td>\n",
       "      <td>unknown</td>\n",
       "      <td>5</td>\n",
       "      <td>may</td>\n",
       "      <td>151</td>\n",
       "      <td>1</td>\n",
       "      <td>-1</td>\n",
       "      <td>0</td>\n",
       "      <td>unknown</td>\n",
       "      <td>no</td>\n",
       "    </tr>\n",
       "    <tr>\n",
       "      <th>2</th>\n",
       "      <td>33</td>\n",
       "      <td>entrepreneur</td>\n",
       "      <td>married</td>\n",
       "      <td>secondary</td>\n",
       "      <td>no</td>\n",
       "      <td>2</td>\n",
       "      <td>yes</td>\n",
       "      <td>yes</td>\n",
       "      <td>unknown</td>\n",
       "      <td>5</td>\n",
       "      <td>may</td>\n",
       "      <td>76</td>\n",
       "      <td>1</td>\n",
       "      <td>-1</td>\n",
       "      <td>0</td>\n",
       "      <td>unknown</td>\n",
       "      <td>no</td>\n",
       "    </tr>\n",
       "    <tr>\n",
       "      <th>3</th>\n",
       "      <td>47</td>\n",
       "      <td>blue-collar</td>\n",
       "      <td>married</td>\n",
       "      <td>unknown</td>\n",
       "      <td>no</td>\n",
       "      <td>1506</td>\n",
       "      <td>yes</td>\n",
       "      <td>no</td>\n",
       "      <td>unknown</td>\n",
       "      <td>5</td>\n",
       "      <td>may</td>\n",
       "      <td>92</td>\n",
       "      <td>1</td>\n",
       "      <td>-1</td>\n",
       "      <td>0</td>\n",
       "      <td>unknown</td>\n",
       "      <td>no</td>\n",
       "    </tr>\n",
       "    <tr>\n",
       "      <th>4</th>\n",
       "      <td>33</td>\n",
       "      <td>unknown</td>\n",
       "      <td>single</td>\n",
       "      <td>unknown</td>\n",
       "      <td>no</td>\n",
       "      <td>1</td>\n",
       "      <td>no</td>\n",
       "      <td>no</td>\n",
       "      <td>unknown</td>\n",
       "      <td>5</td>\n",
       "      <td>may</td>\n",
       "      <td>198</td>\n",
       "      <td>1</td>\n",
       "      <td>-1</td>\n",
       "      <td>0</td>\n",
       "      <td>unknown</td>\n",
       "      <td>no</td>\n",
       "    </tr>\n",
       "    <tr>\n",
       "      <th>5</th>\n",
       "      <td>35</td>\n",
       "      <td>management</td>\n",
       "      <td>married</td>\n",
       "      <td>tertiary</td>\n",
       "      <td>no</td>\n",
       "      <td>231</td>\n",
       "      <td>yes</td>\n",
       "      <td>no</td>\n",
       "      <td>unknown</td>\n",
       "      <td>5</td>\n",
       "      <td>may</td>\n",
       "      <td>139</td>\n",
       "      <td>1</td>\n",
       "      <td>-1</td>\n",
       "      <td>0</td>\n",
       "      <td>unknown</td>\n",
       "      <td>no</td>\n",
       "    </tr>\n",
       "    <tr>\n",
       "      <th>6</th>\n",
       "      <td>28</td>\n",
       "      <td>management</td>\n",
       "      <td>single</td>\n",
       "      <td>tertiary</td>\n",
       "      <td>no</td>\n",
       "      <td>447</td>\n",
       "      <td>yes</td>\n",
       "      <td>yes</td>\n",
       "      <td>unknown</td>\n",
       "      <td>5</td>\n",
       "      <td>may</td>\n",
       "      <td>217</td>\n",
       "      <td>1</td>\n",
       "      <td>-1</td>\n",
       "      <td>0</td>\n",
       "      <td>unknown</td>\n",
       "      <td>no</td>\n",
       "    </tr>\n",
       "    <tr>\n",
       "      <th>7</th>\n",
       "      <td>42</td>\n",
       "      <td>entrepreneur</td>\n",
       "      <td>divorced</td>\n",
       "      <td>tertiary</td>\n",
       "      <td>yes</td>\n",
       "      <td>2</td>\n",
       "      <td>yes</td>\n",
       "      <td>no</td>\n",
       "      <td>unknown</td>\n",
       "      <td>5</td>\n",
       "      <td>may</td>\n",
       "      <td>380</td>\n",
       "      <td>1</td>\n",
       "      <td>-1</td>\n",
       "      <td>0</td>\n",
       "      <td>unknown</td>\n",
       "      <td>no</td>\n",
       "    </tr>\n",
       "    <tr>\n",
       "      <th>8</th>\n",
       "      <td>58</td>\n",
       "      <td>retired</td>\n",
       "      <td>married</td>\n",
       "      <td>primary</td>\n",
       "      <td>no</td>\n",
       "      <td>121</td>\n",
       "      <td>yes</td>\n",
       "      <td>no</td>\n",
       "      <td>unknown</td>\n",
       "      <td>5</td>\n",
       "      <td>may</td>\n",
       "      <td>50</td>\n",
       "      <td>1</td>\n",
       "      <td>-1</td>\n",
       "      <td>0</td>\n",
       "      <td>unknown</td>\n",
       "      <td>no</td>\n",
       "    </tr>\n",
       "    <tr>\n",
       "      <th>9</th>\n",
       "      <td>43</td>\n",
       "      <td>technician</td>\n",
       "      <td>single</td>\n",
       "      <td>secondary</td>\n",
       "      <td>no</td>\n",
       "      <td>593</td>\n",
       "      <td>yes</td>\n",
       "      <td>no</td>\n",
       "      <td>unknown</td>\n",
       "      <td>5</td>\n",
       "      <td>may</td>\n",
       "      <td>55</td>\n",
       "      <td>1</td>\n",
       "      <td>-1</td>\n",
       "      <td>0</td>\n",
       "      <td>unknown</td>\n",
       "      <td>no</td>\n",
       "    </tr>\n",
       "  </tbody>\n",
       "</table>\n",
       "</div>"
      ],
      "text/plain": [
       "   age           job   marital  education default  balance housing loan  \\\n",
       "0   58    management   married   tertiary      no     2143     yes   no   \n",
       "1   44    technician    single  secondary      no       29     yes   no   \n",
       "2   33  entrepreneur   married  secondary      no        2     yes  yes   \n",
       "3   47   blue-collar   married    unknown      no     1506     yes   no   \n",
       "4   33       unknown    single    unknown      no        1      no   no   \n",
       "5   35    management   married   tertiary      no      231     yes   no   \n",
       "6   28    management    single   tertiary      no      447     yes  yes   \n",
       "7   42  entrepreneur  divorced   tertiary     yes        2     yes   no   \n",
       "8   58       retired   married    primary      no      121     yes   no   \n",
       "9   43    technician    single  secondary      no      593     yes   no   \n",
       "\n",
       "   contact  day month  duration  campaign  pdays  previous poutcome   y  \n",
       "0  unknown    5   may       261         1     -1         0  unknown  no  \n",
       "1  unknown    5   may       151         1     -1         0  unknown  no  \n",
       "2  unknown    5   may        76         1     -1         0  unknown  no  \n",
       "3  unknown    5   may        92         1     -1         0  unknown  no  \n",
       "4  unknown    5   may       198         1     -1         0  unknown  no  \n",
       "5  unknown    5   may       139         1     -1         0  unknown  no  \n",
       "6  unknown    5   may       217         1     -1         0  unknown  no  \n",
       "7  unknown    5   may       380         1     -1         0  unknown  no  \n",
       "8  unknown    5   may        50         1     -1         0  unknown  no  \n",
       "9  unknown    5   may        55         1     -1         0  unknown  no  "
      ]
     },
     "execution_count": 5,
     "metadata": {},
     "output_type": "execute_result"
    }
   ],
   "source": [
    " df.head(10)"
   ]
  },
  {
   "cell_type": "markdown",
   "id": "f5aa49ad",
   "metadata": {},
   "source": [
    "# To last 10 records of dataset"
   ]
  },
  {
   "cell_type": "code",
   "execution_count": 6,
   "id": "16998c81",
   "metadata": {},
   "outputs": [
    {
     "data": {
      "text/html": [
       "<div>\n",
       "<style scoped>\n",
       "    .dataframe tbody tr th:only-of-type {\n",
       "        vertical-align: middle;\n",
       "    }\n",
       "\n",
       "    .dataframe tbody tr th {\n",
       "        vertical-align: top;\n",
       "    }\n",
       "\n",
       "    .dataframe thead th {\n",
       "        text-align: right;\n",
       "    }\n",
       "</style>\n",
       "<table border=\"1\" class=\"dataframe\">\n",
       "  <thead>\n",
       "    <tr style=\"text-align: right;\">\n",
       "      <th></th>\n",
       "      <th>age</th>\n",
       "      <th>job</th>\n",
       "      <th>marital</th>\n",
       "      <th>education</th>\n",
       "      <th>default</th>\n",
       "      <th>balance</th>\n",
       "      <th>housing</th>\n",
       "      <th>loan</th>\n",
       "      <th>contact</th>\n",
       "      <th>day</th>\n",
       "      <th>month</th>\n",
       "      <th>duration</th>\n",
       "      <th>campaign</th>\n",
       "      <th>pdays</th>\n",
       "      <th>previous</th>\n",
       "      <th>poutcome</th>\n",
       "      <th>y</th>\n",
       "    </tr>\n",
       "  </thead>\n",
       "  <tbody>\n",
       "    <tr>\n",
       "      <th>45201</th>\n",
       "      <td>53</td>\n",
       "      <td>management</td>\n",
       "      <td>married</td>\n",
       "      <td>tertiary</td>\n",
       "      <td>no</td>\n",
       "      <td>583</td>\n",
       "      <td>no</td>\n",
       "      <td>no</td>\n",
       "      <td>cellular</td>\n",
       "      <td>17</td>\n",
       "      <td>nov</td>\n",
       "      <td>226</td>\n",
       "      <td>1</td>\n",
       "      <td>184</td>\n",
       "      <td>4</td>\n",
       "      <td>success</td>\n",
       "      <td>yes</td>\n",
       "    </tr>\n",
       "    <tr>\n",
       "      <th>45202</th>\n",
       "      <td>34</td>\n",
       "      <td>admin.</td>\n",
       "      <td>single</td>\n",
       "      <td>secondary</td>\n",
       "      <td>no</td>\n",
       "      <td>557</td>\n",
       "      <td>no</td>\n",
       "      <td>no</td>\n",
       "      <td>cellular</td>\n",
       "      <td>17</td>\n",
       "      <td>nov</td>\n",
       "      <td>224</td>\n",
       "      <td>1</td>\n",
       "      <td>-1</td>\n",
       "      <td>0</td>\n",
       "      <td>unknown</td>\n",
       "      <td>yes</td>\n",
       "    </tr>\n",
       "    <tr>\n",
       "      <th>45203</th>\n",
       "      <td>23</td>\n",
       "      <td>student</td>\n",
       "      <td>single</td>\n",
       "      <td>tertiary</td>\n",
       "      <td>no</td>\n",
       "      <td>113</td>\n",
       "      <td>no</td>\n",
       "      <td>no</td>\n",
       "      <td>cellular</td>\n",
       "      <td>17</td>\n",
       "      <td>nov</td>\n",
       "      <td>266</td>\n",
       "      <td>1</td>\n",
       "      <td>-1</td>\n",
       "      <td>0</td>\n",
       "      <td>unknown</td>\n",
       "      <td>yes</td>\n",
       "    </tr>\n",
       "    <tr>\n",
       "      <th>45204</th>\n",
       "      <td>73</td>\n",
       "      <td>retired</td>\n",
       "      <td>married</td>\n",
       "      <td>secondary</td>\n",
       "      <td>no</td>\n",
       "      <td>2850</td>\n",
       "      <td>no</td>\n",
       "      <td>no</td>\n",
       "      <td>cellular</td>\n",
       "      <td>17</td>\n",
       "      <td>nov</td>\n",
       "      <td>300</td>\n",
       "      <td>1</td>\n",
       "      <td>40</td>\n",
       "      <td>8</td>\n",
       "      <td>failure</td>\n",
       "      <td>yes</td>\n",
       "    </tr>\n",
       "    <tr>\n",
       "      <th>45205</th>\n",
       "      <td>25</td>\n",
       "      <td>technician</td>\n",
       "      <td>single</td>\n",
       "      <td>secondary</td>\n",
       "      <td>no</td>\n",
       "      <td>505</td>\n",
       "      <td>no</td>\n",
       "      <td>yes</td>\n",
       "      <td>cellular</td>\n",
       "      <td>17</td>\n",
       "      <td>nov</td>\n",
       "      <td>386</td>\n",
       "      <td>2</td>\n",
       "      <td>-1</td>\n",
       "      <td>0</td>\n",
       "      <td>unknown</td>\n",
       "      <td>yes</td>\n",
       "    </tr>\n",
       "    <tr>\n",
       "      <th>45206</th>\n",
       "      <td>51</td>\n",
       "      <td>technician</td>\n",
       "      <td>married</td>\n",
       "      <td>tertiary</td>\n",
       "      <td>no</td>\n",
       "      <td>825</td>\n",
       "      <td>no</td>\n",
       "      <td>no</td>\n",
       "      <td>cellular</td>\n",
       "      <td>17</td>\n",
       "      <td>nov</td>\n",
       "      <td>977</td>\n",
       "      <td>3</td>\n",
       "      <td>-1</td>\n",
       "      <td>0</td>\n",
       "      <td>unknown</td>\n",
       "      <td>yes</td>\n",
       "    </tr>\n",
       "    <tr>\n",
       "      <th>45207</th>\n",
       "      <td>71</td>\n",
       "      <td>retired</td>\n",
       "      <td>divorced</td>\n",
       "      <td>primary</td>\n",
       "      <td>no</td>\n",
       "      <td>1729</td>\n",
       "      <td>no</td>\n",
       "      <td>no</td>\n",
       "      <td>cellular</td>\n",
       "      <td>17</td>\n",
       "      <td>nov</td>\n",
       "      <td>456</td>\n",
       "      <td>2</td>\n",
       "      <td>-1</td>\n",
       "      <td>0</td>\n",
       "      <td>unknown</td>\n",
       "      <td>yes</td>\n",
       "    </tr>\n",
       "    <tr>\n",
       "      <th>45208</th>\n",
       "      <td>72</td>\n",
       "      <td>retired</td>\n",
       "      <td>married</td>\n",
       "      <td>secondary</td>\n",
       "      <td>no</td>\n",
       "      <td>5715</td>\n",
       "      <td>no</td>\n",
       "      <td>no</td>\n",
       "      <td>cellular</td>\n",
       "      <td>17</td>\n",
       "      <td>nov</td>\n",
       "      <td>1127</td>\n",
       "      <td>5</td>\n",
       "      <td>184</td>\n",
       "      <td>3</td>\n",
       "      <td>success</td>\n",
       "      <td>yes</td>\n",
       "    </tr>\n",
       "    <tr>\n",
       "      <th>45209</th>\n",
       "      <td>57</td>\n",
       "      <td>blue-collar</td>\n",
       "      <td>married</td>\n",
       "      <td>secondary</td>\n",
       "      <td>no</td>\n",
       "      <td>668</td>\n",
       "      <td>no</td>\n",
       "      <td>no</td>\n",
       "      <td>telephone</td>\n",
       "      <td>17</td>\n",
       "      <td>nov</td>\n",
       "      <td>508</td>\n",
       "      <td>4</td>\n",
       "      <td>-1</td>\n",
       "      <td>0</td>\n",
       "      <td>unknown</td>\n",
       "      <td>no</td>\n",
       "    </tr>\n",
       "    <tr>\n",
       "      <th>45210</th>\n",
       "      <td>37</td>\n",
       "      <td>entrepreneur</td>\n",
       "      <td>married</td>\n",
       "      <td>secondary</td>\n",
       "      <td>no</td>\n",
       "      <td>2971</td>\n",
       "      <td>no</td>\n",
       "      <td>no</td>\n",
       "      <td>cellular</td>\n",
       "      <td>17</td>\n",
       "      <td>nov</td>\n",
       "      <td>361</td>\n",
       "      <td>2</td>\n",
       "      <td>188</td>\n",
       "      <td>11</td>\n",
       "      <td>other</td>\n",
       "      <td>no</td>\n",
       "    </tr>\n",
       "  </tbody>\n",
       "</table>\n",
       "</div>"
      ],
      "text/plain": [
       "       age           job   marital  education default  balance housing loan  \\\n",
       "45201   53    management   married   tertiary      no      583      no   no   \n",
       "45202   34        admin.    single  secondary      no      557      no   no   \n",
       "45203   23       student    single   tertiary      no      113      no   no   \n",
       "45204   73       retired   married  secondary      no     2850      no   no   \n",
       "45205   25    technician    single  secondary      no      505      no  yes   \n",
       "45206   51    technician   married   tertiary      no      825      no   no   \n",
       "45207   71       retired  divorced    primary      no     1729      no   no   \n",
       "45208   72       retired   married  secondary      no     5715      no   no   \n",
       "45209   57   blue-collar   married  secondary      no      668      no   no   \n",
       "45210   37  entrepreneur   married  secondary      no     2971      no   no   \n",
       "\n",
       "         contact  day month  duration  campaign  pdays  previous poutcome    y  \n",
       "45201   cellular   17   nov       226         1    184         4  success  yes  \n",
       "45202   cellular   17   nov       224         1     -1         0  unknown  yes  \n",
       "45203   cellular   17   nov       266         1     -1         0  unknown  yes  \n",
       "45204   cellular   17   nov       300         1     40         8  failure  yes  \n",
       "45205   cellular   17   nov       386         2     -1         0  unknown  yes  \n",
       "45206   cellular   17   nov       977         3     -1         0  unknown  yes  \n",
       "45207   cellular   17   nov       456         2     -1         0  unknown  yes  \n",
       "45208   cellular   17   nov      1127         5    184         3  success  yes  \n",
       "45209  telephone   17   nov       508         4     -1         0  unknown   no  \n",
       "45210   cellular   17   nov       361         2    188        11    other   no  "
      ]
     },
     "execution_count": 6,
     "metadata": {},
     "output_type": "execute_result"
    }
   ],
   "source": [
    "df.tail(10)"
   ]
  },
  {
   "cell_type": "markdown",
   "id": "4e6e4e99",
   "metadata": {},
   "source": [
    "# To check datatypes of all the attributes"
   ]
  },
  {
   "cell_type": "code",
   "execution_count": 7,
   "id": "6111e488",
   "metadata": {},
   "outputs": [
    {
     "data": {
      "text/plain": [
       "age           int64\n",
       "job          object\n",
       "marital      object\n",
       "education    object\n",
       "default      object\n",
       "balance       int64\n",
       "housing      object\n",
       "loan         object\n",
       "contact      object\n",
       "day           int64\n",
       "month        object\n",
       "duration      int64\n",
       "campaign      int64\n",
       "pdays         int64\n",
       "previous      int64\n",
       "poutcome     object\n",
       "y            object\n",
       "dtype: object"
      ]
     },
     "execution_count": 7,
     "metadata": {},
     "output_type": "execute_result"
    }
   ],
   "source": [
    "df.dtypes"
   ]
  },
  {
   "cell_type": "markdown",
   "id": "c765ed2a",
   "metadata": {},
   "source": [
    "# To summarize the dataset"
   ]
  },
  {
   "cell_type": "code",
   "execution_count": 8,
   "id": "13f49332",
   "metadata": {},
   "outputs": [
    {
     "name": "stdout",
     "output_type": "stream",
     "text": [
      "<class 'pandas.core.frame.DataFrame'>\n",
      "RangeIndex: 45211 entries, 0 to 45210\n",
      "Data columns (total 17 columns):\n",
      " #   Column     Non-Null Count  Dtype \n",
      "---  ------     --------------  ----- \n",
      " 0   age        45211 non-null  int64 \n",
      " 1   job        45211 non-null  object\n",
      " 2   marital    45211 non-null  object\n",
      " 3   education  45211 non-null  object\n",
      " 4   default    45211 non-null  object\n",
      " 5   balance    45211 non-null  int64 \n",
      " 6   housing    45211 non-null  object\n",
      " 7   loan       45211 non-null  object\n",
      " 8   contact    45211 non-null  object\n",
      " 9   day        45211 non-null  int64 \n",
      " 10  month      45211 non-null  object\n",
      " 11  duration   45211 non-null  int64 \n",
      " 12  campaign   45211 non-null  int64 \n",
      " 13  pdays      45211 non-null  int64 \n",
      " 14  previous   45211 non-null  int64 \n",
      " 15  poutcome   45211 non-null  object\n",
      " 16  y          45211 non-null  object\n",
      "dtypes: int64(7), object(10)\n",
      "memory usage: 5.9+ MB\n"
     ]
    }
   ],
   "source": [
    "df.info()"
   ]
  },
  {
   "cell_type": "markdown",
   "id": "16525791",
   "metadata": {},
   "source": [
    "# To check the null values of each attributes"
   ]
  },
  {
   "cell_type": "code",
   "execution_count": 9,
   "id": "a23393da",
   "metadata": {},
   "outputs": [
    {
     "data": {
      "text/plain": [
       "age          0\n",
       "job          0\n",
       "marital      0\n",
       "education    0\n",
       "default      0\n",
       "balance      0\n",
       "housing      0\n",
       "loan         0\n",
       "contact      0\n",
       "day          0\n",
       "month        0\n",
       "duration     0\n",
       "campaign     0\n",
       "pdays        0\n",
       "previous     0\n",
       "poutcome     0\n",
       "y            0\n",
       "dtype: int64"
      ]
     },
     "execution_count": 9,
     "metadata": {},
     "output_type": "execute_result"
    }
   ],
   "source": [
    "df.isnull().sum()"
   ]
  },
  {
   "cell_type": "markdown",
   "id": "7eb2ea09",
   "metadata": {},
   "source": [
    "# To check null values of dataset"
   ]
  },
  {
   "cell_type": "code",
   "execution_count": 10,
   "id": "bb29cc1e",
   "metadata": {},
   "outputs": [
    {
     "data": {
      "text/plain": [
       "0"
      ]
     },
     "execution_count": 10,
     "metadata": {},
     "output_type": "execute_result"
    }
   ],
   "source": [
    "df.isnull().sum().sum()"
   ]
  },
  {
   "cell_type": "markdown",
   "id": "a2fd89fc",
   "metadata": {},
   "source": [
    "# To get a descriptive statistics summary of a given dataframe"
   ]
  },
  {
   "cell_type": "code",
   "execution_count": 11,
   "id": "9440199b",
   "metadata": {
    "scrolled": true
   },
   "outputs": [
    {
     "data": {
      "text/html": [
       "<div>\n",
       "<style scoped>\n",
       "    .dataframe tbody tr th:only-of-type {\n",
       "        vertical-align: middle;\n",
       "    }\n",
       "\n",
       "    .dataframe tbody tr th {\n",
       "        vertical-align: top;\n",
       "    }\n",
       "\n",
       "    .dataframe thead th {\n",
       "        text-align: right;\n",
       "    }\n",
       "</style>\n",
       "<table border=\"1\" class=\"dataframe\">\n",
       "  <thead>\n",
       "    <tr style=\"text-align: right;\">\n",
       "      <th></th>\n",
       "      <th>age</th>\n",
       "      <th>balance</th>\n",
       "      <th>day</th>\n",
       "      <th>duration</th>\n",
       "      <th>campaign</th>\n",
       "      <th>pdays</th>\n",
       "      <th>previous</th>\n",
       "    </tr>\n",
       "  </thead>\n",
       "  <tbody>\n",
       "    <tr>\n",
       "      <th>count</th>\n",
       "      <td>45211.000000</td>\n",
       "      <td>45211.000000</td>\n",
       "      <td>45211.000000</td>\n",
       "      <td>45211.000000</td>\n",
       "      <td>45211.000000</td>\n",
       "      <td>45211.000000</td>\n",
       "      <td>45211.000000</td>\n",
       "    </tr>\n",
       "    <tr>\n",
       "      <th>mean</th>\n",
       "      <td>40.936210</td>\n",
       "      <td>1362.272058</td>\n",
       "      <td>15.806419</td>\n",
       "      <td>258.163080</td>\n",
       "      <td>2.763841</td>\n",
       "      <td>40.197828</td>\n",
       "      <td>0.580323</td>\n",
       "    </tr>\n",
       "    <tr>\n",
       "      <th>std</th>\n",
       "      <td>10.618762</td>\n",
       "      <td>3044.765829</td>\n",
       "      <td>8.322476</td>\n",
       "      <td>257.527812</td>\n",
       "      <td>3.098021</td>\n",
       "      <td>100.128746</td>\n",
       "      <td>2.303441</td>\n",
       "    </tr>\n",
       "    <tr>\n",
       "      <th>min</th>\n",
       "      <td>18.000000</td>\n",
       "      <td>-8019.000000</td>\n",
       "      <td>1.000000</td>\n",
       "      <td>0.000000</td>\n",
       "      <td>1.000000</td>\n",
       "      <td>-1.000000</td>\n",
       "      <td>0.000000</td>\n",
       "    </tr>\n",
       "    <tr>\n",
       "      <th>25%</th>\n",
       "      <td>33.000000</td>\n",
       "      <td>72.000000</td>\n",
       "      <td>8.000000</td>\n",
       "      <td>103.000000</td>\n",
       "      <td>1.000000</td>\n",
       "      <td>-1.000000</td>\n",
       "      <td>0.000000</td>\n",
       "    </tr>\n",
       "    <tr>\n",
       "      <th>50%</th>\n",
       "      <td>39.000000</td>\n",
       "      <td>448.000000</td>\n",
       "      <td>16.000000</td>\n",
       "      <td>180.000000</td>\n",
       "      <td>2.000000</td>\n",
       "      <td>-1.000000</td>\n",
       "      <td>0.000000</td>\n",
       "    </tr>\n",
       "    <tr>\n",
       "      <th>75%</th>\n",
       "      <td>48.000000</td>\n",
       "      <td>1428.000000</td>\n",
       "      <td>21.000000</td>\n",
       "      <td>319.000000</td>\n",
       "      <td>3.000000</td>\n",
       "      <td>-1.000000</td>\n",
       "      <td>0.000000</td>\n",
       "    </tr>\n",
       "    <tr>\n",
       "      <th>max</th>\n",
       "      <td>95.000000</td>\n",
       "      <td>102127.000000</td>\n",
       "      <td>31.000000</td>\n",
       "      <td>4918.000000</td>\n",
       "      <td>63.000000</td>\n",
       "      <td>871.000000</td>\n",
       "      <td>275.000000</td>\n",
       "    </tr>\n",
       "  </tbody>\n",
       "</table>\n",
       "</div>"
      ],
      "text/plain": [
       "                age        balance           day      duration      campaign  \\\n",
       "count  45211.000000   45211.000000  45211.000000  45211.000000  45211.000000   \n",
       "mean      40.936210    1362.272058     15.806419    258.163080      2.763841   \n",
       "std       10.618762    3044.765829      8.322476    257.527812      3.098021   \n",
       "min       18.000000   -8019.000000      1.000000      0.000000      1.000000   \n",
       "25%       33.000000      72.000000      8.000000    103.000000      1.000000   \n",
       "50%       39.000000     448.000000     16.000000    180.000000      2.000000   \n",
       "75%       48.000000    1428.000000     21.000000    319.000000      3.000000   \n",
       "max       95.000000  102127.000000     31.000000   4918.000000     63.000000   \n",
       "\n",
       "              pdays      previous  \n",
       "count  45211.000000  45211.000000  \n",
       "mean      40.197828      0.580323  \n",
       "std      100.128746      2.303441  \n",
       "min       -1.000000      0.000000  \n",
       "25%       -1.000000      0.000000  \n",
       "50%       -1.000000      0.000000  \n",
       "75%       -1.000000      0.000000  \n",
       "max      871.000000    275.000000  "
      ]
     },
     "execution_count": 11,
     "metadata": {},
     "output_type": "execute_result"
    }
   ],
   "source": [
    "df.describe()"
   ]
  },
  {
   "cell_type": "code",
   "execution_count": 12,
   "id": "af087ff1",
   "metadata": {},
   "outputs": [
    {
     "data": {
      "text/html": [
       "<div>\n",
       "<style scoped>\n",
       "    .dataframe tbody tr th:only-of-type {\n",
       "        vertical-align: middle;\n",
       "    }\n",
       "\n",
       "    .dataframe tbody tr th {\n",
       "        vertical-align: top;\n",
       "    }\n",
       "\n",
       "    .dataframe thead th {\n",
       "        text-align: right;\n",
       "    }\n",
       "</style>\n",
       "<table border=\"1\" class=\"dataframe\">\n",
       "  <thead>\n",
       "    <tr style=\"text-align: right;\">\n",
       "      <th></th>\n",
       "      <th>age</th>\n",
       "      <th>balance</th>\n",
       "      <th>day</th>\n",
       "      <th>duration</th>\n",
       "      <th>campaign</th>\n",
       "      <th>pdays</th>\n",
       "      <th>previous</th>\n",
       "    </tr>\n",
       "  </thead>\n",
       "  <tbody>\n",
       "    <tr>\n",
       "      <th>count</th>\n",
       "      <td>45211.0</td>\n",
       "      <td>45211.0</td>\n",
       "      <td>45211.0</td>\n",
       "      <td>45211.0</td>\n",
       "      <td>45211.0</td>\n",
       "      <td>45211.0</td>\n",
       "      <td>45211.0</td>\n",
       "    </tr>\n",
       "    <tr>\n",
       "      <th>mean</th>\n",
       "      <td>41.0</td>\n",
       "      <td>1362.0</td>\n",
       "      <td>16.0</td>\n",
       "      <td>258.0</td>\n",
       "      <td>3.0</td>\n",
       "      <td>40.0</td>\n",
       "      <td>1.0</td>\n",
       "    </tr>\n",
       "    <tr>\n",
       "      <th>std</th>\n",
       "      <td>11.0</td>\n",
       "      <td>3045.0</td>\n",
       "      <td>8.0</td>\n",
       "      <td>258.0</td>\n",
       "      <td>3.0</td>\n",
       "      <td>100.0</td>\n",
       "      <td>2.0</td>\n",
       "    </tr>\n",
       "    <tr>\n",
       "      <th>min</th>\n",
       "      <td>18.0</td>\n",
       "      <td>-8019.0</td>\n",
       "      <td>1.0</td>\n",
       "      <td>0.0</td>\n",
       "      <td>1.0</td>\n",
       "      <td>-1.0</td>\n",
       "      <td>0.0</td>\n",
       "    </tr>\n",
       "    <tr>\n",
       "      <th>25%</th>\n",
       "      <td>33.0</td>\n",
       "      <td>72.0</td>\n",
       "      <td>8.0</td>\n",
       "      <td>103.0</td>\n",
       "      <td>1.0</td>\n",
       "      <td>-1.0</td>\n",
       "      <td>0.0</td>\n",
       "    </tr>\n",
       "    <tr>\n",
       "      <th>50%</th>\n",
       "      <td>39.0</td>\n",
       "      <td>448.0</td>\n",
       "      <td>16.0</td>\n",
       "      <td>180.0</td>\n",
       "      <td>2.0</td>\n",
       "      <td>-1.0</td>\n",
       "      <td>0.0</td>\n",
       "    </tr>\n",
       "    <tr>\n",
       "      <th>75%</th>\n",
       "      <td>48.0</td>\n",
       "      <td>1428.0</td>\n",
       "      <td>21.0</td>\n",
       "      <td>319.0</td>\n",
       "      <td>3.0</td>\n",
       "      <td>-1.0</td>\n",
       "      <td>0.0</td>\n",
       "    </tr>\n",
       "    <tr>\n",
       "      <th>max</th>\n",
       "      <td>95.0</td>\n",
       "      <td>102127.0</td>\n",
       "      <td>31.0</td>\n",
       "      <td>4918.0</td>\n",
       "      <td>63.0</td>\n",
       "      <td>871.0</td>\n",
       "      <td>275.0</td>\n",
       "    </tr>\n",
       "  </tbody>\n",
       "</table>\n",
       "</div>"
      ],
      "text/plain": [
       "           age   balance      day  duration  campaign    pdays  previous\n",
       "count  45211.0   45211.0  45211.0   45211.0   45211.0  45211.0   45211.0\n",
       "mean      41.0    1362.0     16.0     258.0       3.0     40.0       1.0\n",
       "std       11.0    3045.0      8.0     258.0       3.0    100.0       2.0\n",
       "min       18.0   -8019.0      1.0       0.0       1.0     -1.0       0.0\n",
       "25%       33.0      72.0      8.0     103.0       1.0     -1.0       0.0\n",
       "50%       39.0     448.0     16.0     180.0       2.0     -1.0       0.0\n",
       "75%       48.0    1428.0     21.0     319.0       3.0     -1.0       0.0\n",
       "max       95.0  102127.0     31.0    4918.0      63.0    871.0     275.0"
      ]
     },
     "execution_count": 12,
     "metadata": {},
     "output_type": "execute_result"
    }
   ],
   "source": [
    "df.describe().round(0) #To round a dataframe to a variable number of decimal places"
   ]
  },
  {
   "cell_type": "markdown",
   "id": "e74a558e",
   "metadata": {},
   "source": [
    "# changed datatypes of attributes from object to category"
   ]
  },
  {
   "cell_type": "code",
   "execution_count": 13,
   "id": "96726fbf",
   "metadata": {},
   "outputs": [],
   "source": [
    "df['job'] = df['job'].astype('category')\n",
    "df['marital'] = df['marital'].astype('category')\n",
    "df['education'] = df['education'].astype('category')\n",
    "df['default'] = df['default'].astype('category')\n",
    "df['housing'] = df['housing'].astype('category')\n",
    "df['loan'] = df['loan'].astype('category')\n",
    "df['contact'] = df['contact'].astype('category')\n",
    "df['month'] = df['month'].astype('category')\n",
    "df['poutcome'] = df['poutcome'].astype('category')\n",
    "df['y'] = df['y'].astype('category')"
   ]
  },
  {
   "cell_type": "markdown",
   "id": "43ef0342",
   "metadata": {},
   "source": [
    "# To check number on unique values in each attributes"
   ]
  },
  {
   "cell_type": "code",
   "execution_count": 14,
   "id": "d11aba42",
   "metadata": {},
   "outputs": [
    {
     "data": {
      "text/plain": [
       "age            77\n",
       "job            12\n",
       "marital         3\n",
       "education       4\n",
       "default         2\n",
       "balance      7168\n",
       "housing         2\n",
       "loan            2\n",
       "contact         3\n",
       "day            31\n",
       "month          12\n",
       "duration     1573\n",
       "campaign       48\n",
       "pdays         559\n",
       "previous       41\n",
       "poutcome        4\n",
       "y               2\n",
       "dtype: int64"
      ]
     },
     "execution_count": 14,
     "metadata": {},
     "output_type": "execute_result"
    }
   ],
   "source": [
    "df.nunique()"
   ]
  },
  {
   "cell_type": "code",
   "execution_count": 15,
   "id": "6da1bff7",
   "metadata": {},
   "outputs": [
    {
     "data": {
      "text/plain": [
       "0"
      ]
     },
     "execution_count": 15,
     "metadata": {},
     "output_type": "execute_result"
    }
   ],
   "source": [
    "df.duplicated().sum() #to check the sum of duplicated values"
   ]
  },
  {
   "cell_type": "code",
   "execution_count": 16,
   "id": "fd9ef4b0",
   "metadata": {},
   "outputs": [
    {
     "data": {
      "text/html": [
       "<div>\n",
       "<style scoped>\n",
       "    .dataframe tbody tr th:only-of-type {\n",
       "        vertical-align: middle;\n",
       "    }\n",
       "\n",
       "    .dataframe tbody tr th {\n",
       "        vertical-align: top;\n",
       "    }\n",
       "\n",
       "    .dataframe thead th {\n",
       "        text-align: right;\n",
       "    }\n",
       "</style>\n",
       "<table border=\"1\" class=\"dataframe\">\n",
       "  <thead>\n",
       "    <tr style=\"text-align: right;\">\n",
       "      <th></th>\n",
       "      <th>age</th>\n",
       "      <th>balance</th>\n",
       "      <th>day</th>\n",
       "      <th>duration</th>\n",
       "      <th>campaign</th>\n",
       "      <th>pdays</th>\n",
       "      <th>previous</th>\n",
       "    </tr>\n",
       "  </thead>\n",
       "  <tbody>\n",
       "    <tr>\n",
       "      <th>count</th>\n",
       "      <td>45211.0</td>\n",
       "      <td>45211.0</td>\n",
       "      <td>45211.0</td>\n",
       "      <td>45211.0</td>\n",
       "      <td>45211.0</td>\n",
       "      <td>45211.0</td>\n",
       "      <td>45211.0</td>\n",
       "    </tr>\n",
       "    <tr>\n",
       "      <th>mean</th>\n",
       "      <td>41.0</td>\n",
       "      <td>1362.0</td>\n",
       "      <td>16.0</td>\n",
       "      <td>258.0</td>\n",
       "      <td>3.0</td>\n",
       "      <td>40.0</td>\n",
       "      <td>1.0</td>\n",
       "    </tr>\n",
       "    <tr>\n",
       "      <th>std</th>\n",
       "      <td>11.0</td>\n",
       "      <td>3045.0</td>\n",
       "      <td>8.0</td>\n",
       "      <td>258.0</td>\n",
       "      <td>3.0</td>\n",
       "      <td>100.0</td>\n",
       "      <td>2.0</td>\n",
       "    </tr>\n",
       "    <tr>\n",
       "      <th>min</th>\n",
       "      <td>18.0</td>\n",
       "      <td>-8019.0</td>\n",
       "      <td>1.0</td>\n",
       "      <td>0.0</td>\n",
       "      <td>1.0</td>\n",
       "      <td>-1.0</td>\n",
       "      <td>0.0</td>\n",
       "    </tr>\n",
       "    <tr>\n",
       "      <th>25%</th>\n",
       "      <td>33.0</td>\n",
       "      <td>72.0</td>\n",
       "      <td>8.0</td>\n",
       "      <td>103.0</td>\n",
       "      <td>1.0</td>\n",
       "      <td>-1.0</td>\n",
       "      <td>0.0</td>\n",
       "    </tr>\n",
       "    <tr>\n",
       "      <th>50%</th>\n",
       "      <td>39.0</td>\n",
       "      <td>448.0</td>\n",
       "      <td>16.0</td>\n",
       "      <td>180.0</td>\n",
       "      <td>2.0</td>\n",
       "      <td>-1.0</td>\n",
       "      <td>0.0</td>\n",
       "    </tr>\n",
       "    <tr>\n",
       "      <th>75%</th>\n",
       "      <td>48.0</td>\n",
       "      <td>1428.0</td>\n",
       "      <td>21.0</td>\n",
       "      <td>319.0</td>\n",
       "      <td>3.0</td>\n",
       "      <td>-1.0</td>\n",
       "      <td>0.0</td>\n",
       "    </tr>\n",
       "    <tr>\n",
       "      <th>max</th>\n",
       "      <td>95.0</td>\n",
       "      <td>102127.0</td>\n",
       "      <td>31.0</td>\n",
       "      <td>4918.0</td>\n",
       "      <td>63.0</td>\n",
       "      <td>871.0</td>\n",
       "      <td>275.0</td>\n",
       "    </tr>\n",
       "  </tbody>\n",
       "</table>\n",
       "</div>"
      ],
      "text/plain": [
       "           age   balance      day  duration  campaign    pdays  previous\n",
       "count  45211.0   45211.0  45211.0   45211.0   45211.0  45211.0   45211.0\n",
       "mean      41.0    1362.0     16.0     258.0       3.0     40.0       1.0\n",
       "std       11.0    3045.0      8.0     258.0       3.0    100.0       2.0\n",
       "min       18.0   -8019.0      1.0       0.0       1.0     -1.0       0.0\n",
       "25%       33.0      72.0      8.0     103.0       1.0     -1.0       0.0\n",
       "50%       39.0     448.0     16.0     180.0       2.0     -1.0       0.0\n",
       "75%       48.0    1428.0     21.0     319.0       3.0     -1.0       0.0\n",
       "max       95.0  102127.0     31.0    4918.0      63.0    871.0     275.0"
      ]
     },
     "execution_count": 16,
     "metadata": {},
     "output_type": "execute_result"
    }
   ],
   "source": [
    "df.describe().round(0)"
   ]
  },
  {
   "cell_type": "markdown",
   "id": "14f941d0",
   "metadata": {},
   "source": [
    "#  Visualization and detection of the outliers "
   ]
  },
  {
   "cell_type": "code",
   "execution_count": 17,
   "id": "18a1e593",
   "metadata": {},
   "outputs": [
    {
     "data": {
      "image/png": "[encoded data removed]",
      "text/plain": [
       "<Figure size 1440x288 with 2 Axes>"
      ]
     },
     "metadata": {
      "needs_background": "light"
     },
     "output_type": "display_data"
    }
   ],
   "source": [
    "fig, axes = plt.subplots(1,2, figsize=(20,4))\n",
    "sb.histplot(df['age'], bins=10,ax=axes[0])\n",
    "plt.boxplot(df['age'],patch_artist = True)\n",
    "\n",
    "axes[0].set_title('Distribution of the Age of Customers')\n",
    "axes[1].set_title('Range of the age of Customers')\n",
    "plt.tight_layout()\n",
    "# plt.savefig(\"hist of AgeofCustomers.png\")\n",
    "plt.show()"
   ]
  },
  {
   "cell_type": "code",
   "execution_count": 18,
   "id": "573f4e57",
   "metadata": {},
   "outputs": [
    {
     "name": "stdout",
     "output_type": "stream",
     "text": [
      "Q1_age: 33 years\n",
      "Q3_age: 48 years\n",
      "IQR_age 15 years\n"
     ]
    },
    {
     "data": {
      "text/plain": [
       "70.5"
      ]
     },
     "execution_count": 18,
     "metadata": {},
     "output_type": "execute_result"
    }
   ],
   "source": [
    "import numpy as np\n",
    "# calculating Q1 for age attribute\n",
    "# 0.25 means 25% on left and 75% on right\n",
    "Q1_age = df[\"age\"].quantile(0.25)\n",
    "print(\"Q1_age:\", int(Q1_age),\"years\")\n",
    "# calculating Q3 for age attribute\n",
    "Q3_age = df[\"age\"].quantile(0.75)\n",
    "print(\"Q3_age:\", int(Q3_age),\"years\")\n",
    "# calculate interquartile (IQR) for age attribute\n",
    "IQR_age = Q3_age - Q1_age\n",
    "print(\"IQR_age\", int(IQR_age),\"years\")\n",
    "#calculating lower bound for age atrribute\n",
    "lowerBound_age = Q1_age - (1.5 * IQR_age)\n",
    "lowerBound_age\n",
    "#calculating upper bound for age atrribute\n",
    "upperBound_age = Q3_age + (1.5 * IQR_age)\n",
    "upperBound_age"
   ]
  },
  {
   "cell_type": "code",
   "execution_count": 19,
   "id": "a74ac640",
   "metadata": {},
   "outputs": [],
   "source": [
    "#removing the outlier\n",
    "index = df['age'][(df['age']>upperBound_age)].index\n",
    "df.drop(index,inplace=True)"
   ]
  },
  {
   "cell_type": "code",
   "execution_count": 20,
   "id": "c32eb716",
   "metadata": {},
   "outputs": [
    {
     "data": {
      "image/png": "[encoded data removed]",
      "text/plain": [
       "<Figure size 432x288 with 1 Axes>"
      ]
     },
     "metadata": {
      "needs_background": "light"
     },
     "output_type": "display_data"
    }
   ],
   "source": [
    "#visualizing distribution of age attribute\n",
    "sb.boxplot(x = 'age', data = df)\n",
    "plt.tight_layout()\n",
    "#plt.savefig(\"hist of ageofcustomers.png\")\n",
    "plt.show()"
   ]
  },
  {
   "cell_type": "code",
   "execution_count": 21,
   "id": "d82d2f0a",
   "metadata": {},
   "outputs": [
    {
     "data": {
      "image/png": "[encoded data removed]",
      "text/plain": [
       "<Figure size 1440x288 with 2 Axes>"
      ]
     },
     "metadata": {
      "needs_background": "light"
     },
     "output_type": "display_data"
    }
   ],
   "source": [
    "fig, axes = plt.subplots(1,2, figsize=(20,4))\n",
    "sb.histplot(df['balance'], bins=10,ax=axes[0])\n",
    "plt.boxplot(df['balance'],patch_artist = True)\n",
    "\n",
    "axes[0].set_title('Distribution of the balance of Customers')\n",
    "axes[1].set_title('Range of the balance of Customers')\n",
    "plt.tight_layout()\n",
    "# plt.savefig(\"hist of balancefromCustomers.png\")\n",
    "plt.show()"
   ]
  },
  {
   "cell_type": "code",
   "execution_count": 22,
   "id": "3c08f699",
   "metadata": {},
   "outputs": [
    {
     "name": "stdout",
     "output_type": "stream",
     "text": [
      "Q1_balance: 33 dollars\n",
      "Q3_balance: 1408 dollars\n",
      "IQR_balance 1337 dollars\n"
     ]
    },
    {
     "data": {
      "text/plain": [
       "3413.5"
      ]
     },
     "execution_count": 22,
     "metadata": {},
     "output_type": "execute_result"
    }
   ],
   "source": [
    "# calculating Q1 for balance attribute\n",
    "median = np.median(df[\"balance\"])\n",
    "median\n",
    "# 0.25 means 25% on left and 75% on right\n",
    "Q1_balance = df[\"balance\"].quantile(0.25)\n",
    "print(\"Q1_balance:\", int(Q1_age),\"dollars\")\n",
    "# calculating Q3 for age attribute\n",
    "Q3_balance = df[\"balance\"].quantile(0.75)\n",
    "print(\"Q3_balance:\", int(Q3_balance),\"dollars\")\n",
    "# calculate interquartile (IQR) for balance attribute\n",
    "IQR_balance = Q3_balance - Q1_balance\n",
    "print(\"IQR_balance\", int(IQR_balance),\"dollars\")\n",
    "#calculating lower bound for balance atrribute\n",
    "lowerBound_balance = Q1_balance - (1.5 * IQR_balance)\n",
    "lowerBound_balance\n",
    "#calculating upper bound for balance atrribute\n",
    "upperBound_balance = Q3_balance + (1.5 * IQR_balance)\n",
    "upperBound_balance"
   ]
  },
  {
   "cell_type": "code",
   "execution_count": 23,
   "id": "2e7137a5",
   "metadata": {},
   "outputs": [
    {
     "data": {
      "image/png": "[encoded data removed]",
      "text/plain": [
       "<Figure size 432x288 with 1 Axes>"
      ]
     },
     "metadata": {
      "needs_background": "light"
     },
     "output_type": "display_data"
    }
   ],
   "source": [
    "#removing the outlier\n",
    "index = df['balance'][(df['balance']>upperBound_balance)].index\n",
    "df.drop(index,inplace=True)\n",
    "\n",
    "#visualizing distribution of age attribute\n",
    "sb.boxplot(x = 'balance', data = df)\n",
    "plt.tight_layout()\n",
    "#plt.savefig(\"hist of ageofcustomers.png\")\n",
    "plt.show()"
   ]
  },
  {
   "cell_type": "code",
   "execution_count": 24,
   "id": "03300f69",
   "metadata": {},
   "outputs": [
    {
     "data": {
      "image/png": "[encoded data removed]",
      "text/plain": [
       "<Figure size 1440x288 with 2 Axes>"
      ]
     },
     "metadata": {
      "needs_background": "light"
     },
     "output_type": "display_data"
    }
   ],
   "source": [
    "fig, axes = plt.subplots(1,2, figsize=(20,4))\n",
    "sb.histplot(df['day'], bins=10,ax=axes[0])\n",
    "plt.boxplot(df['day'],patch_artist = True)\n",
    "\n",
    "axes[0].set_title('Distribution of the dayof calling Customers')\n",
    "axes[1].set_title('Range of the calling Customers')\n",
    "plt.tight_layout()\n",
    "# plt.savefig(\"hist of dayofcallingcustomers.png\")\n",
    "plt.show()"
   ]
  },
  {
   "cell_type": "code",
   "execution_count": 25,
   "id": "d2d73438",
   "metadata": {},
   "outputs": [
    {
     "data": {
      "image/png": "[encoded data removed]",
      "text/plain": [
       "<Figure size 1440x288 with 2 Axes>"
      ]
     },
     "metadata": {
      "needs_background": "light"
     },
     "output_type": "display_data"
    }
   ],
   "source": [
    "fig, axes = plt.subplots(1,2, figsize=(20,4))\n",
    "sb.histplot(df['duration'], bins=10,ax=axes[0])\n",
    "plt.boxplot(df['duration'],patch_artist = True)\n",
    "\n",
    "axes[0].set_title('Distribution of the duration of calls')\n",
    "axes[1].set_title('Range of the duration of calls')\n",
    "plt.tight_layout()\n",
    "# plt.savefig(\"hist of durationofcallingcustomers.png\")\n",
    "plt.show()"
   ]
  },
  {
   "cell_type": "code",
   "execution_count": 26,
   "id": "639820a2",
   "metadata": {},
   "outputs": [
    {
     "name": "stdout",
     "output_type": "stream",
     "text": [
      "Q1_duration: 33 seconds\n",
      "Q3_duration: 315 seconds\n",
      "IQR_duration 213 seconds\n"
     ]
    },
    {
     "data": {
      "text/plain": [
       "634.5"
      ]
     },
     "execution_count": 26,
     "metadata": {},
     "output_type": "execute_result"
    }
   ],
   "source": [
    "# calculating Q1 for duration attribute\n",
    "median = np.median(df[\"duration\"])\n",
    "median\n",
    "# 0.25 means 25% on left and 75% on right\n",
    "Q1_duration = df[\"duration\"].quantile(0.25)\n",
    "print(\"Q1_duration:\", int(Q1_age),\"seconds\")\n",
    "# calculating Q3 for duration attribute\n",
    "Q3_duration = df[\"duration\"].quantile(0.75)\n",
    "print(\"Q3_duration:\", int(Q3_duration),\"seconds\")\n",
    "# calculate interquartile (IQR) for duration attribute\n",
    "IQR_duration = Q3_duration - Q1_duration\n",
    "print(\"IQR_duration\", int(IQR_duration),\"seconds\")\n",
    "#calculating lower bound for duration atrribute\n",
    "lowerBound_duration = Q1_duration - (1.5 * IQR_duration)\n",
    "lowerBound_duration\n",
    "#calculating upper bound for duration atrribute\n",
    "upperBound_duration = Q3_duration + (1.5 * IQR_duration)\n",
    "upperBound_duration"
   ]
  },
  {
   "cell_type": "code",
   "execution_count": 27,
   "id": "20bfd01f",
   "metadata": {},
   "outputs": [],
   "source": [
    "#removing the outlier\n",
    "index = df['duration'][(df['duration']>upperBound_duration)].index\n",
    "df.drop(index,inplace=True)"
   ]
  },
  {
   "cell_type": "code",
   "execution_count": 28,
   "id": "d8630816",
   "metadata": {},
   "outputs": [
    {
     "data": {
      "image/png": "[encoded data removed]",
      "text/plain": [
       "<Figure size 432x288 with 1 Axes>"
      ]
     },
     "metadata": {
      "needs_background": "light"
     },
     "output_type": "display_data"
    }
   ],
   "source": [
    "#visualizing distribution of age attribute\n",
    "sb.boxplot(x = 'duration', data = df)\n",
    "plt.tight_layout()\n",
    "#plt.savefig(\"hist of durationofcalls.png\")\n",
    "plt.show()"
   ]
  },
  {
   "cell_type": "code",
   "execution_count": 29,
   "id": "3dbb116a",
   "metadata": {},
   "outputs": [
    {
     "data": {
      "image/png": "[encoded data removed]",
      "text/plain": [
       "<Figure size 1440x288 with 2 Axes>"
      ]
     },
     "metadata": {
      "needs_background": "light"
     },
     "output_type": "display_data"
    }
   ],
   "source": [
    "fig, axes = plt.subplots(1,2, figsize=(20,4))\n",
    "sb.histplot(df['campaign'], bins=10,ax=axes[0])\n",
    "plt.boxplot(df['campaign'],patch_artist = True)\n",
    "\n",
    "axes[0].set_title('Distribution of the campaigns')\n",
    "axes[1].set_title('Range of the campaigns')\n",
    "plt.tight_layout()\n",
    "# plt.savefig(\"hist of campaigns.png\")\n",
    "plt.show()"
   ]
  },
  {
   "cell_type": "code",
   "execution_count": 30,
   "id": "1c2f59dd",
   "metadata": {},
   "outputs": [
    {
     "name": "stdout",
     "output_type": "stream",
     "text": [
      "Q1_campaign: 33 campaigns\n",
      "Q3_campaign: 315 campaigns\n",
      "IQR_campaign 2 campaigns\n"
     ]
    },
    {
     "data": {
      "text/plain": [
       "6.0"
      ]
     },
     "execution_count": 30,
     "metadata": {},
     "output_type": "execute_result"
    }
   ],
   "source": [
    "# calculating Q1 for campaign attribute\n",
    "median = np.median(df[\"campaign\"])\n",
    "median\n",
    "# 0.25 means 25% on left and 75% on right\n",
    "Q1_campaign = df[\"campaign\"].quantile(0.25)\n",
    "print(\"Q1_campaign:\", int(Q1_age),\"campaigns\")\n",
    "# calculating Q3 for duration attribute\n",
    "Q3_campaign = df[\"campaign\"].quantile(0.75)\n",
    "print(\"Q3_campaign:\", int(Q3_duration),\"campaigns\")\n",
    "# calculate interquartile (IQR) for duration attribute\n",
    "IQR_campaign = Q3_campaign - Q1_campaign\n",
    "print(\"IQR_campaign\", int(IQR_campaign),\"campaigns\")\n",
    "#calculating lower bound for duration atrribute\n",
    "lowerBound_campaign = Q1_campaign - (1.5 * IQR_campaign)\n",
    "lowerBound_campaign\n",
    "#calculating upper bound for campaign atrribute\n",
    "upperBound_campaign = Q3_campaign + (1.5 * IQR_campaign)\n",
    "upperBound_campaign"
   ]
  },
  {
   "cell_type": "code",
   "execution_count": 31,
   "id": "cd088119",
   "metadata": {},
   "outputs": [],
   "source": [
    "#removing the outlier\n",
    "index = df['campaign'][(df['campaign']>upperBound_campaign)].index\n",
    "df.drop(index,inplace=True)"
   ]
  },
  {
   "cell_type": "code",
   "execution_count": 32,
   "id": "73a53d29",
   "metadata": {},
   "outputs": [
    {
     "data": {
      "image/png": "[encoded data removed]",
      "text/plain": [
       "<Figure size 432x288 with 1 Axes>"
      ]
     },
     "metadata": {
      "needs_background": "light"
     },
     "output_type": "display_data"
    }
   ],
   "source": [
    "#visualizing distribution of campaign attribute\n",
    "sb.boxplot(x = 'campaign', data = df)\n",
    "plt.tight_layout()\n",
    "#plt.savefig(\"hist of numberofcampaigns.png\")\n",
    "plt.show()"
   ]
  },
  {
   "cell_type": "code",
   "execution_count": 33,
   "id": "555d8120",
   "metadata": {},
   "outputs": [
    {
     "data": {
      "image/png": "[encoded data removed]",
      "text/plain": [
       "<Figure size 1440x288 with 2 Axes>"
      ]
     },
     "metadata": {
      "needs_background": "light"
     },
     "output_type": "display_data"
    }
   ],
   "source": [
    "fig, axes = plt.subplots(1,2, figsize=(20,4))\n",
    "sb.histplot(df['pdays'], bins=10,ax=axes[0])\n",
    "plt.boxplot(df['pdays'],patch_artist = True)\n",
    "\n",
    "axes[0].set_title('Distribution of the pdays')\n",
    "axes[1].set_title('Range of the pdays')\n",
    "plt.tight_layout()\n",
    "# plt.savefig(\"hist of pdays.png\")\n",
    "plt.show()"
   ]
  },
  {
   "cell_type": "code",
   "execution_count": 34,
   "id": "f7b09cd2",
   "metadata": {},
   "outputs": [
    {
     "data": {
      "image/png": "[encoded data removed]",
      "text/plain": [
       "<Figure size 432x288 with 1 Axes>"
      ]
     },
     "metadata": {
      "needs_background": "light"
     },
     "output_type": "display_data"
    }
   ],
   "source": [
    "# fig, axes = plt.subplots(1,2, figsize=(20,4))\n",
    "sb.histplot(df['previous'], bins=10,ax=axes[0])\n",
    "plt.boxplot(df['previous'],patch_artist = True)\n",
    "\n",
    "axes[0].set_title('Distribution of the previous calls')\n",
    "axes[1].set_title('Range of the previous calls')\n",
    "plt.tight_layout()\n",
    "# plt.savefig(\"hist of previouscalls.png\")\n",
    "plt.show()"
   ]
  },
  {
   "cell_type": "markdown",
   "id": "ae750c0c",
   "metadata": {},
   "source": [
    "# To check the variance of the dataset\n",
    "Variance measures how far the set of (random) numbers are spread out from their average value."
   ]
  },
  {
   "cell_type": "code",
   "execution_count": 35,
   "id": "20de71db",
   "metadata": {},
   "outputs": [
    {
     "name": "stdout",
     "output_type": "stream",
     "text": [
      "age             98.478348\n",
      "balance     698819.778983\n",
      "day             69.124500\n",
      "duration     19006.008048\n",
      "campaign         1.741717\n",
      "pdays        10730.658687\n",
      "previous         5.680883\n",
      "dtype: float64\n"
     ]
    }
   ],
   "source": [
    "variance = np.var(df)\n",
    "print(variance)"
   ]
  },
  {
   "cell_type": "markdown",
   "id": "e905d32c",
   "metadata": {},
   "source": [
    "# Correlation between attributes\n",
    "Correlation heatmaps can be used to find relationship between variable"
   ]
  },
  {
   "cell_type": "code",
   "execution_count": 36,
   "id": "eebde34b",
   "metadata": {},
   "outputs": [
    {
     "data": {
      "text/html": [
       "<div>\n",
       "<style scoped>\n",
       "    .dataframe tbody tr th:only-of-type {\n",
       "        vertical-align: middle;\n",
       "    }\n",
       "\n",
       "    .dataframe tbody tr th {\n",
       "        vertical-align: top;\n",
       "    }\n",
       "\n",
       "    .dataframe thead th {\n",
       "        text-align: right;\n",
       "    }\n",
       "</style>\n",
       "<table border=\"1\" class=\"dataframe\">\n",
       "  <thead>\n",
       "    <tr style=\"text-align: right;\">\n",
       "      <th></th>\n",
       "      <th>age</th>\n",
       "      <th>balance</th>\n",
       "      <th>day</th>\n",
       "      <th>duration</th>\n",
       "      <th>campaign</th>\n",
       "      <th>pdays</th>\n",
       "      <th>previous</th>\n",
       "    </tr>\n",
       "  </thead>\n",
       "  <tbody>\n",
       "    <tr>\n",
       "      <th>age</th>\n",
       "      <td>1.000000</td>\n",
       "      <td>0.078524</td>\n",
       "      <td>-0.007315</td>\n",
       "      <td>-0.037430</td>\n",
       "      <td>0.040140</td>\n",
       "      <td>-0.032673</td>\n",
       "      <td>-0.008525</td>\n",
       "    </tr>\n",
       "    <tr>\n",
       "      <th>balance</th>\n",
       "      <td>0.078524</td>\n",
       "      <td>1.000000</td>\n",
       "      <td>0.007103</td>\n",
       "      <td>0.024472</td>\n",
       "      <td>-0.026459</td>\n",
       "      <td>0.028896</td>\n",
       "      <td>0.035044</td>\n",
       "    </tr>\n",
       "    <tr>\n",
       "      <th>day</th>\n",
       "      <td>-0.007315</td>\n",
       "      <td>0.007103</td>\n",
       "      <td>1.000000</td>\n",
       "      <td>-0.034665</td>\n",
       "      <td>0.103585</td>\n",
       "      <td>-0.083141</td>\n",
       "      <td>-0.043586</td>\n",
       "    </tr>\n",
       "    <tr>\n",
       "      <th>duration</th>\n",
       "      <td>-0.037430</td>\n",
       "      <td>0.024472</td>\n",
       "      <td>-0.034665</td>\n",
       "      <td>1.000000</td>\n",
       "      <td>-0.075203</td>\n",
       "      <td>0.015919</td>\n",
       "      <td>0.015281</td>\n",
       "    </tr>\n",
       "    <tr>\n",
       "      <th>campaign</th>\n",
       "      <td>0.040140</td>\n",
       "      <td>-0.026459</td>\n",
       "      <td>0.103585</td>\n",
       "      <td>-0.075203</td>\n",
       "      <td>1.000000</td>\n",
       "      <td>-0.069450</td>\n",
       "      <td>-0.004958</td>\n",
       "    </tr>\n",
       "    <tr>\n",
       "      <th>pdays</th>\n",
       "      <td>-0.032673</td>\n",
       "      <td>0.028896</td>\n",
       "      <td>-0.083141</td>\n",
       "      <td>0.015919</td>\n",
       "      <td>-0.069450</td>\n",
       "      <td>1.000000</td>\n",
       "      <td>0.435872</td>\n",
       "    </tr>\n",
       "    <tr>\n",
       "      <th>previous</th>\n",
       "      <td>-0.008525</td>\n",
       "      <td>0.035044</td>\n",
       "      <td>-0.043586</td>\n",
       "      <td>0.015281</td>\n",
       "      <td>-0.004958</td>\n",
       "      <td>0.435872</td>\n",
       "      <td>1.000000</td>\n",
       "    </tr>\n",
       "  </tbody>\n",
       "</table>\n",
       "</div>"
      ],
      "text/plain": [
       "               age   balance       day  duration  campaign     pdays  previous\n",
       "age       1.000000  0.078524 -0.007315 -0.037430  0.040140 -0.032673 -0.008525\n",
       "balance   0.078524  1.000000  0.007103  0.024472 -0.026459  0.028896  0.035044\n",
       "day      -0.007315  0.007103  1.000000 -0.034665  0.103585 -0.083141 -0.043586\n",
       "duration -0.037430  0.024472 -0.034665  1.000000 -0.075203  0.015919  0.015281\n",
       "campaign  0.040140 -0.026459  0.103585 -0.075203  1.000000 -0.069450 -0.004958\n",
       "pdays    -0.032673  0.028896 -0.083141  0.015919 -0.069450  1.000000  0.435872\n",
       "previous -0.008525  0.035044 -0.043586  0.015281 -0.004958  0.435872  1.000000"
      ]
     },
     "execution_count": 36,
     "metadata": {},
     "output_type": "execute_result"
    }
   ],
   "source": [
    "df.corr()"
   ]
  },
  {
   "cell_type": "code",
   "execution_count": 37,
   "id": "c3e40f0e",
   "metadata": {},
   "outputs": [
    {
     "data": {
      "text/plain": [
       "<function matplotlib.pyplot.show(close=None, block=None)>"
      ]
     },
     "execution_count": 37,
     "metadata": {},
     "output_type": "execute_result"
    },
    {
     "data": {
      "image/png": "[encoded data removed]",
      "text/plain": [
       "<Figure size 1440x1440 with 2 Axes>"
      ]
     },
     "metadata": {
      "needs_background": "light"
     },
     "output_type": "display_data"
    }
   ],
   "source": [
    "#corelation matrix using pearson method(used for values base), sperman method used for the rank used values\n",
    "plt.figure(figsize=(20,20))\n",
    "sb.heatmap(df.corr(method='spearman'), annot=True)\n",
    "plt.show"
   ]
  },
  {
   "cell_type": "markdown",
   "id": "5283fdff",
   "metadata": {},
   "source": [
    "# Visualization of the Attributes"
   ]
  },
  {
   "cell_type": "code",
   "execution_count": 38,
   "id": "b2546f73",
   "metadata": {},
   "outputs": [
    {
     "data": {
      "text/plain": [
       "no     33897\n",
       "yes      683\n",
       "Name: default, dtype: int64"
      ]
     },
     "execution_count": 38,
     "metadata": {},
     "output_type": "execute_result"
    }
   ],
   "source": [
    "default_count = df['default'].value_counts()\n",
    "default_count"
   ]
  },
  {
   "cell_type": "code",
   "execution_count": 39,
   "id": "6c27e229",
   "metadata": {},
   "outputs": [
    {
     "name": "stdout",
     "output_type": "stream",
     "text": [
      "count of yes: 683\n",
      "count of no: 33897\n"
     ]
    },
    {
     "data": {
      "image/png": "[encoded data removed]",
      "text/plain": [
       "<Figure size 432x288 with 1 Axes>"
      ]
     },
     "metadata": {},
     "output_type": "display_data"
    }
   ],
   "source": [
    "# to make pie plots\n",
    "countyes = df.loc[df[\"default\"]== \"yes\",].shape[0]\n",
    "countno = df.loc[df[\"default\"]== \"no\",].shape[0]\n",
    "print(\"count of yes:\", countyes)\n",
    "print(\"count of no:\", countno)\n",
    "\n",
    "labels = ['yes', 'no']\n",
    "slices  = [countyes, countno]\n",
    "explode = [0.1,0]\n",
    "plt.pie(slices, labels = labels, explode = explode, startangle = -90, autopct='%1.1f%%', wedgeprops={'edgecolor':'black'})\n",
    "plt.axis(\"equal\")\n",
    "plt.title(\"distribution of default_status\")\n",
    "plt.legend()\n",
    "plt.show()"
   ]
  },
  {
   "cell_type": "markdown",
   "id": "e66601f0",
   "metadata": {},
   "source": [
    "The Pie chart above shows that 2% of people has their Credit in default status and 98% do not have in default. "
   ]
  },
  {
   "cell_type": "code",
   "execution_count": 40,
   "id": "c5ac9d9d",
   "metadata": {
    "scrolled": true
   },
   "outputs": [
    {
     "data": {
      "text/plain": [
       "married     20599\n",
       "single       9954\n",
       "divorced     4027\n",
       "Name: marital, dtype: int64"
      ]
     },
     "execution_count": 40,
     "metadata": {},
     "output_type": "execute_result"
    }
   ],
   "source": [
    "marital_count = df['marital'].value_counts()\n",
    "marital_count"
   ]
  },
  {
   "cell_type": "code",
   "execution_count": 41,
   "id": "a5dbc506",
   "metadata": {},
   "outputs": [
    {
     "name": "stdout",
     "output_type": "stream",
     "text": [
      "count of married: 20599\n",
      "count of single: 9954\n",
      "count of divorced: 4027\n"
     ]
    },
    {
     "data": {
      "image/png": "[encoded data removed]",
      "text/plain": [
       "<Figure size 432x288 with 1 Axes>"
      ]
     },
     "metadata": {},
     "output_type": "display_data"
    }
   ],
   "source": [
    "countmarried = df.loc[df[\"marital\"]== \"married\",].shape[0]\n",
    "countsingle = df.loc[df[\"marital\"]== \"single\",].shape[0]\n",
    "countdivorced = df.loc[df[\"marital\"]== \"divorced\",].shape[0]\n",
    "print(\"count of married:\", countmarried)\n",
    "print(\"count of single:\", countsingle)\n",
    "print(\"count of divorced:\", countdivorced)\n",
    "\n",
    "labels = ['married', 'single', 'divorced']\n",
    "slices  = [countmarried, countsingle, countdivorced]\n",
    "explode = [0.1,0,0.1]\n",
    "plt.pie(slices, labels = labels, explode = explode, startangle = -90, autopct='%1.1f%%', wedgeprops={'edgecolor':'black'})\n",
    "plt.axis(\"equal\")\n",
    "plt.title(\"distribution of marital_status\")\n",
    "plt.legend()\n",
    "plt.show()"
   ]
  },
  {
   "cell_type": "markdown",
   "id": "33bda5d2",
   "metadata": {},
   "source": [
    "Here, the marital attribute in my dataset provides information about customers marital status. It has a three-category single, married and divorced. This pie chart shows that the Portuguese bank is having 59.6% customers are married marked as a blue color, 28.8% are single and 11.6% are divorced customers."
   ]
  },
  {
   "cell_type": "code",
   "execution_count": 42,
   "id": "934b0716",
   "metadata": {},
   "outputs": [
    {
     "data": {
      "text/plain": [
       "no     28664\n",
       "yes     5916\n",
       "Name: loan, dtype: int64"
      ]
     },
     "execution_count": 42,
     "metadata": {},
     "output_type": "execute_result"
    }
   ],
   "source": [
    "loan_count = df['loan'].value_counts()\n",
    "loan_count"
   ]
  },
  {
   "cell_type": "code",
   "execution_count": 43,
   "id": "ac9e8d4a",
   "metadata": {
    "scrolled": true
   },
   "outputs": [
    {
     "name": "stdout",
     "output_type": "stream",
     "text": [
      "count of yes: 5916\n",
      "count of no: 28664\n"
     ]
    },
    {
     "data": {
      "image/png": "[encoded data removed]",
      "text/plain": [
       "<Figure size 432x288 with 1 Axes>"
      ]
     },
     "metadata": {},
     "output_type": "display_data"
    }
   ],
   "source": [
    "# to make pie plots\n",
    "countyes = df.loc[df[\"loan\"]== \"yes\",].shape[0]\n",
    "countno = df.loc[df[\"loan\"]== \"no\",].shape[0]\n",
    "print(\"count of yes:\", countyes)\n",
    "print(\"count of no:\", countno)\n",
    "\n",
    "labels = ['yes', 'no']\n",
    "slices  = [countyes, countno]\n",
    "explode = [0.1,0]\n",
    "plt.pie(slices, labels = labels, explode = explode, startangle = -90, autopct='%1.1f%%', wedgeprops={'edgecolor':'black'})\n",
    "plt.axis(\"equal\")\n",
    "plt.title(\"distribution of customers taking loan\")\n",
    "plt.legend()\n",
    "plt.show()"
   ]
  },
  {
   "cell_type": "markdown",
   "id": "f51b1f81",
   "metadata": {},
   "source": [
    "The loan attribute tells us about the loan status of the customers. It shows that is the customers are having personal loan or not. It has two categories as a yes and no. In my dataset only 17.1%  of clients are having personal loan while majority of people(82.9%) are not having any personal loan. I named this pie chart as a distribution of a customers taking personal loan."
   ]
  },
  {
   "cell_type": "code",
   "execution_count": 44,
   "id": "39f50740",
   "metadata": {},
   "outputs": [
    {
     "data": {
      "text/plain": [
       "yes    19774\n",
       "no     14806\n",
       "Name: housing, dtype: int64"
      ]
     },
     "execution_count": 44,
     "metadata": {},
     "output_type": "execute_result"
    }
   ],
   "source": [
    "housing_count = df['housing'].value_counts()\n",
    "housing_count"
   ]
  },
  {
   "cell_type": "code",
   "execution_count": 45,
   "id": "55da0a3f",
   "metadata": {},
   "outputs": [
    {
     "name": "stdout",
     "output_type": "stream",
     "text": [
      "count of yes: 19774\n",
      "count of no: 14806\n"
     ]
    },
    {
     "data": {
      "image/png": "[encoded data removed]",
      "text/plain": [
       "<Figure size 432x288 with 1 Axes>"
      ]
     },
     "metadata": {},
     "output_type": "display_data"
    }
   ],
   "source": [
    "countyes = df.loc[df[\"housing\"]== \"yes\",].shape[0]\n",
    "countno = df.loc[df[\"housing\"]== \"no\",].shape[0]\n",
    "print(\"count of yes:\", countyes)\n",
    "print(\"count of no:\", countno)\n",
    "\n",
    "labels = ['yes', 'no']\n",
    "slices  = [countyes, countno]\n",
    "explode = [0.1,0]\n",
    "plt.pie(slices, labels = labels, explode = explode, startangle = -90, autopct='%1.1f%%', wedgeprops={'edgecolor':'black'})\n",
    "plt.axis(\"equal\")\n",
    "plt.title(\"distribution of housing_status\")\n",
    "plt.legend()\n",
    "plt.show()"
   ]
  },
  {
   "cell_type": "markdown",
   "id": "2b1787a6",
   "metadata": {},
   "source": [
    "This pie chart titled as a distribution of housing status says about housing loan. It shows that 57.2% of customers are having housing loan which are labeled as a blue and rest which are not having any housing loan marked as a orange."
   ]
  },
  {
   "cell_type": "code",
   "execution_count": 46,
   "id": "4764ef1c",
   "metadata": {},
   "outputs": [
    {
     "data": {
      "text/plain": [
       "cellular     22418\n",
       "unknown      10257\n",
       "telephone     1905\n",
       "Name: contact, dtype: int64"
      ]
     },
     "execution_count": 46,
     "metadata": {},
     "output_type": "execute_result"
    }
   ],
   "source": [
    "contact_count = df['contact'].value_counts()\n",
    "contact_count"
   ]
  },
  {
   "cell_type": "code",
   "execution_count": 47,
   "id": "6256fbac",
   "metadata": {},
   "outputs": [
    {
     "name": "stdout",
     "output_type": "stream",
     "text": [
      "count of cellular: 22418\n",
      "count of unknown: 10257\n",
      "count of telephone: 1905\n"
     ]
    },
    {
     "data": {
      "image/png": "[encoded data removed]",
      "text/plain": [
       "<Figure size 432x288 with 1 Axes>"
      ]
     },
     "metadata": {},
     "output_type": "display_data"
    }
   ],
   "source": [
    "# to make pie plots\n",
    "countcellular = df.loc[df[\"contact\"]== \"cellular\",].shape[0]\n",
    "countunknown = df.loc[df[\"contact\"]== \"unknown\",].shape[0]\n",
    "counttelephone = df.loc[df[\"contact\"]== \"telephone\",].shape[0]\n",
    "print(\"count of cellular:\", countcellular)\n",
    "print(\"count of unknown:\", countunknown)\n",
    "print(\"count of telephone:\", counttelephone)\n",
    "\n",
    "labels = ['cellular', 'unknown', 'telephone']\n",
    "slices  = [countcellular, countunknown, counttelephone]\n",
    "explode = [0.1,0,0.2]\n",
    "plt.pie(slices, labels = labels, explode = explode, startangle = -90, autopct='%1.1f%%', wedgeprops={'edgecolor':'black'})\n",
    "plt.axis(\"equal\")\n",
    "plt.title(\"distribution of contact_status\")\n",
    "plt.legend()\n",
    "plt.show()"
   ]
  },
  {
   "cell_type": "markdown",
   "id": "2dc07061",
   "metadata": {},
   "source": [
    "The Contact attribute states that how a customer got contacted. In which way bank contacted customers in this campaign. First, we checked the unique values here, it has a three categorical attribute cellular, telephone and unknown. The pie chart shows that 64.8% of clients are contacted via cellular, 5.5% via telephone and rest method are unknown."
   ]
  },
  {
   "cell_type": "code",
   "execution_count": 48,
   "id": "77358473",
   "metadata": {},
   "outputs": [
    {
     "data": {
      "text/plain": [
       "secondary    18300\n",
       "tertiary      9787\n",
       "primary       5139\n",
       "unknown       1354\n",
       "Name: education, dtype: int64"
      ]
     },
     "execution_count": 48,
     "metadata": {},
     "output_type": "execute_result"
    }
   ],
   "source": [
    "education_count = df['education'].value_counts()\n",
    "education_count"
   ]
  },
  {
   "cell_type": "code",
   "execution_count": 49,
   "id": "c705913e",
   "metadata": {
    "scrolled": true
   },
   "outputs": [
    {
     "name": "stdout",
     "output_type": "stream",
     "text": [
      "count of secondary: 18300\n",
      "count of tertiary: 9787\n",
      "count of primary: 5139\n",
      "count of unknown: 1354\n"
     ]
    },
    {
     "data": {
      "image/png": "[encoded data removed]",
      "text/plain": [
       "<Figure size 432x288 with 1 Axes>"
      ]
     },
     "metadata": {},
     "output_type": "display_data"
    }
   ],
   "source": [
    "countsecondary = df.loc[df[\"education\"]== \"secondary\",].shape[0]\n",
    "counttertiary = df.loc[df[\"education\"]== \"tertiary\",].shape[0]\n",
    "countprimary = df.loc[df[\"education\"]== \"primary\",].shape[0]\n",
    "countunknown = df.loc[df[\"education\"]== \"unknown\",].shape[0]\n",
    "print(\"count of secondary:\", countsecondary)\n",
    "print(\"count of tertiary:\", counttertiary)\n",
    "print(\"count of primary:\", countprimary)\n",
    "print(\"count of unknown:\", countunknown)\n",
    "\n",
    "labels = ['secondary', 'tertiary', 'primary', 'unknown']\n",
    "slices  = [countsecondary, counttertiary, countprimary, countunknown]\n",
    "explode = [0.1,0,0.1,0]\n",
    "plt.pie(slices, labels = labels, explode = explode, startangle = -90, autopct='%1.1f%%', wedgeprops={'edgecolor':'black'})\n",
    "plt.axis(\"equal\")\n",
    "plt.title(\"distribution of education_status\")\n",
    "plt.legend()\n",
    "plt.show()"
   ]
  },
  {
   "cell_type": "markdown",
   "id": "2af9ea18",
   "metadata": {},
   "source": [
    "This attribute says about education status of the customers. It divides into primary, secondary, tertiary and unknows. 52.9% of customers are having secondary education and rest of them are having tertiary and primary, while some of them are not even mentioned so that information is marked as unknown."
   ]
  },
  {
   "cell_type": "code",
   "execution_count": 50,
   "id": "1c92c3a2",
   "metadata": {
    "scrolled": true
   },
   "outputs": [
    {
     "data": {
      "text/plain": [
       "blue-collar      7675\n",
       "management       6974\n",
       "technician       5863\n",
       "admin.           4166\n",
       "services         3325\n",
       "retired          1388\n",
       "self-employed    1174\n",
       "entrepreneur     1144\n",
       "unemployed        982\n",
       "housemaid         930\n",
       "student           761\n",
       "unknown           198\n",
       "Name: job, dtype: int64"
      ]
     },
     "execution_count": 50,
     "metadata": {},
     "output_type": "execute_result"
    }
   ],
   "source": [
    "job_count = df['job'].value_counts()\n",
    "job_count"
   ]
  },
  {
   "cell_type": "code",
   "execution_count": 51,
   "id": "8bf2bafa",
   "metadata": {
    "scrolled": true
   },
   "outputs": [
    {
     "data": {
      "text/plain": [
       "Text(0.5, 1.0, 'Type of Job Distribution')"
      ]
     },
     "execution_count": 51,
     "metadata": {},
     "output_type": "execute_result"
    },
    {
     "data": {
      "image/png": "[encoded data removed]",
      "text/plain": [
       "<Figure size 720x432 with 1 Axes>"
      ]
     },
     "metadata": {
      "needs_background": "light"
     },
     "output_type": "display_data"
    }
   ],
   "source": [
    "plt.figure(figsize = (10, 6))\n",
    "job_count.plot(kind = \"bar\")\n",
    "plt.title(\"Type of Job Distribution\")"
   ]
  },
  {
   "cell_type": "markdown",
   "id": "2e379271",
   "metadata": {},
   "source": [
    "This is the bar chart for job attribute. It has a information about employment status of clients. It shows that most of the clients of bank are having blue collar job, some are retired, some are unemployed while some of them are student and many more categories are there"
   ]
  },
  {
   "cell_type": "code",
   "execution_count": 52,
   "id": "0c6f41af",
   "metadata": {
    "scrolled": true
   },
   "outputs": [
    {
     "data": {
      "text/plain": [
       "may    11251\n",
       "jul     5217\n",
       "aug     4449\n",
       "jun     3921\n",
       "nov     2756\n",
       "apr     2268\n",
       "feb     2095\n",
       "jan     1216\n",
       "oct      510\n",
       "sep      412\n",
       "mar      340\n",
       "dec      145\n",
       "Name: month, dtype: int64"
      ]
     },
     "execution_count": 52,
     "metadata": {},
     "output_type": "execute_result"
    }
   ],
   "source": [
    "month_count = df['month'].value_counts()\n",
    "month_count"
   ]
  },
  {
   "cell_type": "code",
   "execution_count": 53,
   "id": "c782d185",
   "metadata": {
    "scrolled": true
   },
   "outputs": [
    {
     "data": {
      "text/plain": [
       "[Text(0.5, 1.0, 'Month Data Distribution')]"
      ]
     },
     "execution_count": 53,
     "metadata": {},
     "output_type": "execute_result"
    },
    {
     "data": {
      "image/png": "[encoded data removed]",
      "text/plain": [
       "<Figure size 576x360 with 1 Axes>"
      ]
     },
     "metadata": {
      "needs_background": "light"
     },
     "output_type": "display_data"
    }
   ],
   "source": [
    "plt.figure(figsize = (8, 5))\n",
    "month_count.plot(kind = \"bar\").set(title = \"Month Data Distribution\")"
   ]
  },
  {
   "cell_type": "markdown",
   "id": "90b336cf",
   "metadata": {},
   "source": [
    " "
   ]
  },
  {
   "cell_type": "code",
   "execution_count": 54,
   "id": "3e2a7603",
   "metadata": {},
   "outputs": [
    {
     "data": {
      "text/plain": [
       "unknown    28090\n",
       "failure     3956\n",
       "other       1426\n",
       "success     1108\n",
       "Name: poutcome, dtype: int64"
      ]
     },
     "execution_count": 54,
     "metadata": {},
     "output_type": "execute_result"
    }
   ],
   "source": [
    "poutcome_count = df['poutcome'].value_counts()\n",
    "poutcome_count"
   ]
  },
  {
   "cell_type": "code",
   "execution_count": 55,
   "id": "310ad99a",
   "metadata": {
    "scrolled": true
   },
   "outputs": [
    {
     "name": "stdout",
     "output_type": "stream",
     "text": [
      "count of unknown: 28090\n",
      "count of failure: 3956\n",
      "count of other: 1426\n",
      "count of success: 1108\n"
     ]
    },
    {
     "data": {
      "image/png": "[encoded data removed]",
      "text/plain": [
       "<Figure size 432x288 with 1 Axes>"
      ]
     },
     "metadata": {},
     "output_type": "display_data"
    }
   ],
   "source": [
    "# to make pie plots\n",
    "countunknown = df.loc[df[\"poutcome\"]== \"unknown\",].shape[0]\n",
    "countfailure = df.loc[df[\"poutcome\"]== \"failure\",].shape[0]\n",
    "countother = df.loc[df[\"poutcome\"]== \"other\",].shape[0]\n",
    "countsuccess = df.loc[df[\"poutcome\"]== \"success\",].shape[0]\n",
    "print(\"count of unknown:\", countunknown)\n",
    "print(\"count of failure:\", countfailure)\n",
    "print(\"count of other:\", countother)\n",
    "print(\"count of success:\", countsuccess)\n",
    "labels = ['unknown', 'failure', 'other', 'success']\n",
    "slices  = [countunknown, countfailure, countother, countsuccess]\n",
    "explode = [0.1,0,0.2,0.1]\n",
    "plt.pie(slices, labels = labels, explode = explode, startangle = -90, autopct='%1.1f%%', wedgeprops={'edgecolor':'black'})\n",
    "plt.axis(\"equal\")\n",
    "plt.title(\"distribution of poutcome_status\")\n",
    "plt.legend()\n",
    "plt.show()"
   ]
  },
  {
   "cell_type": "markdown",
   "id": "c7e30ee5",
   "metadata": {},
   "source": [
    "This poutcome attribute gives us information about previous campaign results details. It’s let us know about how was the previous campaign. It has four categorical attributes as a failure, success, others and unknown. This pie chart shows that majority result of previous outcome was unknown, while it has only only 4.1% success rate and 11.4% failure rate, which is higher than success rate."
   ]
  },
  {
   "cell_type": "code",
   "execution_count": 56,
   "id": "296abac8",
   "metadata": {},
   "outputs": [
    {
     "data": {
      "text/plain": [
       "no     31728\n",
       "yes     2852\n",
       "Name: y, dtype: int64"
      ]
     },
     "execution_count": 56,
     "metadata": {},
     "output_type": "execute_result"
    }
   ],
   "source": [
    "y_count = df['y'].value_counts()\n",
    "y_count"
   ]
  },
  {
   "cell_type": "code",
   "execution_count": 57,
   "id": "47b65944",
   "metadata": {},
   "outputs": [
    {
     "name": "stdout",
     "output_type": "stream",
     "text": [
      "count of yes: 2852\n",
      "count of no: 31728\n"
     ]
    },
    {
     "data": {
      "image/png": "[encoded data removed]",
      "text/plain": [
       "<Figure size 432x288 with 1 Axes>"
      ]
     },
     "metadata": {},
     "output_type": "display_data"
    }
   ],
   "source": [
    "countyes = df.loc[df[\"y\"]== \"yes\",].shape[0]\n",
    "countno = df.loc[df[\"y\"]== \"no\",].shape[0]\n",
    "print(\"count of yes:\", countyes)\n",
    "print(\"count of no:\", countno)\n",
    "\n",
    "labels = ['yes', 'no']\n",
    "slices  = [countyes, countno]\n",
    "explode = [0.1,0]\n",
    "plt.pie(slices, labels = labels, explode = explode, startangle = -90, autopct='%1.1f%%', wedgeprops={'edgecolor':'black'})\n",
    "plt.axis(\"equal\")\n",
    "plt.title(\"distribution of customers deposit term\")\n",
    "plt.legend()\n",
    "plt.show()"
   ]
  },
  {
   "cell_type": "markdown",
   "id": "ff665fba",
   "metadata": {},
   "source": [
    "This is my target variable. It has information about customer deposit term. It shows that 91.8% of clients are not subscribing the bank deposit, however only 8.2% of the customers subscribing the bank deposit term."
   ]
  },
  {
   "cell_type": "markdown",
   "id": "a002f52a",
   "metadata": {},
   "source": [
    "# Comparing target variable with other features"
   ]
  },
  {
   "cell_type": "code",
   "execution_count": 58,
   "id": "63783573",
   "metadata": {},
   "outputs": [
    {
     "data": {
      "image/png": "[encoded data removed]",
      "text/plain": [
       "<Figure size 432x432 with 1 Axes>"
      ]
     },
     "metadata": {
      "needs_background": "light"
     },
     "output_type": "display_data"
    }
   ],
   "source": [
    "plt.figure(figsize=(6,6))\n",
    "sb.countplot(x=\"y\" , hue=\"job\", data = df)\n",
    "plt.show()"
   ]
  },
  {
   "cell_type": "markdown",
   "id": "9a410a32",
   "metadata": {},
   "source": [
    "It shows comparison between term y and job attribute, that how many of customers from different employment level has subscribed the term "
   ]
  },
  {
   "cell_type": "code",
   "execution_count": 59,
   "id": "870782f0",
   "metadata": {
    "scrolled": true
   },
   "outputs": [
    {
     "data": {
      "image/png": "[encoded data removed]",
      "text/plain": [
       "<Figure size 504x504 with 1 Axes>"
      ]
     },
     "metadata": {
      "needs_background": "light"
     },
     "output_type": "display_data"
    }
   ],
   "source": [
    "plt.figure(figsize=(7,7))\n",
    "sb.countplot(x=\"y\" , hue=\"marital\", data = df)\n",
    "plt.show()"
   ]
  },
  {
   "cell_type": "markdown",
   "id": "0a2db52a",
   "metadata": {},
   "source": [
    "Here, it shows that how many of married, single and divorced has subscribed the deposit term. As we can see that I’ve majority of marital status vote as no."
   ]
  },
  {
   "cell_type": "code",
   "execution_count": 60,
   "id": "e681fd97",
   "metadata": {
    "scrolled": true
   },
   "outputs": [
    {
     "data": {
      "image/png": "[encoded data removed]",
      "text/plain": [
       "<Figure size 432x432 with 1 Axes>"
      ]
     },
     "metadata": {
      "needs_background": "light"
     },
     "output_type": "display_data"
    }
   ],
   "source": [
    "plt.figure(figsize=(6,6))\n",
    "sb.countplot(x=\"y\" , hue=\"education\", data = df)\n",
    "plt.show()"
   ]
  },
  {
   "cell_type": "markdown",
   "id": "d7288e6d",
   "metadata": {},
   "source": [
    "Here, it differentiate between education status of the customers who have subscribed  the deposit term and who has not."
   ]
  },
  {
   "cell_type": "code",
   "execution_count": 61,
   "id": "270b6658",
   "metadata": {},
   "outputs": [
    {
     "data": {
      "image/png": "[encoded data removed]",
      "text/plain": [
       "<Figure size 576x576 with 1 Axes>"
      ]
     },
     "metadata": {
      "needs_background": "light"
     },
     "output_type": "display_data"
    }
   ],
   "source": [
    "plt.figure(figsize=(8,8))\n",
    "sb.countplot(x=\"y\" , hue=\"default\", data = df)\n",
    "plt.show()"
   ]
  },
  {
   "cell_type": "markdown",
   "id": "a1ccb4ae",
   "metadata": {},
   "source": [
    "Here it shows that most of the customers are not having their credit in default and this are the same who haven’t subscribed the deposit term"
   ]
  },
  {
   "cell_type": "code",
   "execution_count": 62,
   "id": "66a10751",
   "metadata": {},
   "outputs": [
    {
     "data": {
      "image/png": "[encoded data removed]",
      "text/plain": [
       "<Figure size 432x432 with 1 Axes>"
      ]
     },
     "metadata": {
      "needs_background": "light"
     },
     "output_type": "display_data"
    }
   ],
   "source": [
    "plt.figure(figsize=(6,6))\n",
    "sb.countplot(x=\"y\" , hue=\"housing\", data = df)\n",
    "plt.show()"
   ]
  },
  {
   "cell_type": "markdown",
   "id": "1c646693",
   "metadata": {},
   "source": [
    "Here it compares that customers who are having housing loan and also has subscribed the bank deposit term. It compares both yes and no with housing loan"
   ]
  },
  {
   "cell_type": "code",
   "execution_count": 63,
   "id": "4bfa15b6",
   "metadata": {
    "scrolled": false
   },
   "outputs": [
    {
     "data": {
      "image/png": "[encoded data removed]",
      "text/plain": [
       "<Figure size 504x360 with 1 Axes>"
      ]
     },
     "metadata": {
      "needs_background": "light"
     },
     "output_type": "display_data"
    }
   ],
   "source": [
    "plt.figure(figsize=(7,5))\n",
    "sb.countplot(x=\"y\" , hue=\"loan\", data = df)\n",
    "plt.show()"
   ]
  },
  {
   "cell_type": "markdown",
   "id": "9e5d033c",
   "metadata": {},
   "source": [
    "It shows loan status of customers in terms of subscribtion of a deposit term."
   ]
  },
  {
   "cell_type": "code",
   "execution_count": 64,
   "id": "89d73216",
   "metadata": {
    "scrolled": true
   },
   "outputs": [
    {
     "data": {
      "image/png": "[encoded data removed]",
      "text/plain": [
       "<Figure size 432x432 with 1 Axes>"
      ]
     },
     "metadata": {
      "needs_background": "light"
     },
     "output_type": "display_data"
    }
   ],
   "source": [
    "plt.figure(figsize=(6,6))\n",
    "sb.countplot(x=\"y\" , hue=\"contact\", data = df)\n",
    "plt.show()"
   ]
  },
  {
   "cell_type": "markdown",
   "id": "e7245e58",
   "metadata": {},
   "source": [
    "It shows how a customer get contacted in this campaign. It differentiate how the yes one are contacted and how the no one are contacted"
   ]
  },
  {
   "cell_type": "code",
   "execution_count": 65,
   "id": "802d9f3f",
   "metadata": {
    "scrolled": true
   },
   "outputs": [
    {
     "data": {
      "image/png": "[encoded data removed]",
      "text/plain": [
       "<Figure size 576x504 with 1 Axes>"
      ]
     },
     "metadata": {
      "needs_background": "light"
     },
     "output_type": "display_data"
    }
   ],
   "source": [
    "plt.figure(figsize=(8,7))\n",
    "sb.countplot(x=\"y\" , hue=\"month\", data = df)\n",
    "plt.show()"
   ]
  },
  {
   "cell_type": "markdown",
   "id": "6ed537fa",
   "metadata": {},
   "source": [
    "It shows the bank deposit term according to a month of contacted customer"
   ]
  },
  {
   "cell_type": "code",
   "execution_count": 66,
   "id": "4eeb6005",
   "metadata": {
    "scrolled": true
   },
   "outputs": [
    {
     "data": {
      "image/png": "[encoded data removed]",
      "text/plain": [
       "<Figure size 576x360 with 1 Axes>"
      ]
     },
     "metadata": {
      "needs_background": "light"
     },
     "output_type": "display_data"
    }
   ],
   "source": [
    "plt.figure(figsize=(8,5))\n",
    "sb.countplot(x=\"y\" , hue=\"poutcome\", data = df)\n",
    "plt.show()"
   ]
  },
  {
   "cell_type": "markdown",
   "id": "f90ff911",
   "metadata": {},
   "source": [
    "It compares previous outcome result that are failure , success, others and unknown with the bank deposit term."
   ]
  },
  {
   "cell_type": "markdown",
   "id": "a3f154f7",
   "metadata": {},
   "source": [
    "# Convert categorical variable into nummeric using onehot encoding method"
   ]
  },
  {
   "cell_type": "code",
   "execution_count": 67,
   "id": "d28c4be7",
   "metadata": {},
   "outputs": [
    {
     "data": {
      "text/html": [
       "<div>\n",
       "<style scoped>\n",
       "    .dataframe tbody tr th:only-of-type {\n",
       "        vertical-align: middle;\n",
       "    }\n",
       "\n",
       "    .dataframe tbody tr th {\n",
       "        vertical-align: top;\n",
       "    }\n",
       "\n",
       "    .dataframe thead th {\n",
       "        text-align: right;\n",
       "    }\n",
       "</style>\n",
       "<table border=\"1\" class=\"dataframe\">\n",
       "  <thead>\n",
       "    <tr style=\"text-align: right;\">\n",
       "      <th></th>\n",
       "      <th>age</th>\n",
       "      <th>job</th>\n",
       "      <th>marital</th>\n",
       "      <th>education</th>\n",
       "      <th>default</th>\n",
       "      <th>balance</th>\n",
       "      <th>housing</th>\n",
       "      <th>loan</th>\n",
       "      <th>contact</th>\n",
       "      <th>day</th>\n",
       "      <th>month</th>\n",
       "      <th>duration</th>\n",
       "      <th>campaign</th>\n",
       "      <th>pdays</th>\n",
       "      <th>previous</th>\n",
       "      <th>poutcome</th>\n",
       "    </tr>\n",
       "  </thead>\n",
       "  <tbody>\n",
       "    <tr>\n",
       "      <th>0</th>\n",
       "      <td>58</td>\n",
       "      <td>management</td>\n",
       "      <td>married</td>\n",
       "      <td>tertiary</td>\n",
       "      <td>no</td>\n",
       "      <td>2143</td>\n",
       "      <td>yes</td>\n",
       "      <td>no</td>\n",
       "      <td>unknown</td>\n",
       "      <td>5</td>\n",
       "      <td>may</td>\n",
       "      <td>261</td>\n",
       "      <td>1</td>\n",
       "      <td>-1</td>\n",
       "      <td>0</td>\n",
       "      <td>unknown</td>\n",
       "    </tr>\n",
       "    <tr>\n",
       "      <th>1</th>\n",
       "      <td>44</td>\n",
       "      <td>technician</td>\n",
       "      <td>single</td>\n",
       "      <td>secondary</td>\n",
       "      <td>no</td>\n",
       "      <td>29</td>\n",
       "      <td>yes</td>\n",
       "      <td>no</td>\n",
       "      <td>unknown</td>\n",
       "      <td>5</td>\n",
       "      <td>may</td>\n",
       "      <td>151</td>\n",
       "      <td>1</td>\n",
       "      <td>-1</td>\n",
       "      <td>0</td>\n",
       "      <td>unknown</td>\n",
       "    </tr>\n",
       "    <tr>\n",
       "      <th>2</th>\n",
       "      <td>33</td>\n",
       "      <td>entrepreneur</td>\n",
       "      <td>married</td>\n",
       "      <td>secondary</td>\n",
       "      <td>no</td>\n",
       "      <td>2</td>\n",
       "      <td>yes</td>\n",
       "      <td>yes</td>\n",
       "      <td>unknown</td>\n",
       "      <td>5</td>\n",
       "      <td>may</td>\n",
       "      <td>76</td>\n",
       "      <td>1</td>\n",
       "      <td>-1</td>\n",
       "      <td>0</td>\n",
       "      <td>unknown</td>\n",
       "    </tr>\n",
       "    <tr>\n",
       "      <th>3</th>\n",
       "      <td>47</td>\n",
       "      <td>blue-collar</td>\n",
       "      <td>married</td>\n",
       "      <td>unknown</td>\n",
       "      <td>no</td>\n",
       "      <td>1506</td>\n",
       "      <td>yes</td>\n",
       "      <td>no</td>\n",
       "      <td>unknown</td>\n",
       "      <td>5</td>\n",
       "      <td>may</td>\n",
       "      <td>92</td>\n",
       "      <td>1</td>\n",
       "      <td>-1</td>\n",
       "      <td>0</td>\n",
       "      <td>unknown</td>\n",
       "    </tr>\n",
       "    <tr>\n",
       "      <th>4</th>\n",
       "      <td>33</td>\n",
       "      <td>unknown</td>\n",
       "      <td>single</td>\n",
       "      <td>unknown</td>\n",
       "      <td>no</td>\n",
       "      <td>1</td>\n",
       "      <td>no</td>\n",
       "      <td>no</td>\n",
       "      <td>unknown</td>\n",
       "      <td>5</td>\n",
       "      <td>may</td>\n",
       "      <td>198</td>\n",
       "      <td>1</td>\n",
       "      <td>-1</td>\n",
       "      <td>0</td>\n",
       "      <td>unknown</td>\n",
       "    </tr>\n",
       "  </tbody>\n",
       "</table>\n",
       "</div>"
      ],
      "text/plain": [
       "   age           job  marital  education default  balance housing loan  \\\n",
       "0   58    management  married   tertiary      no     2143     yes   no   \n",
       "1   44    technician   single  secondary      no       29     yes   no   \n",
       "2   33  entrepreneur  married  secondary      no        2     yes  yes   \n",
       "3   47   blue-collar  married    unknown      no     1506     yes   no   \n",
       "4   33       unknown   single    unknown      no        1      no   no   \n",
       "\n",
       "   contact  day month  duration  campaign  pdays  previous poutcome  \n",
       "0  unknown    5   may       261         1     -1         0  unknown  \n",
       "1  unknown    5   may       151         1     -1         0  unknown  \n",
       "2  unknown    5   may        76         1     -1         0  unknown  \n",
       "3  unknown    5   may        92         1     -1         0  unknown  \n",
       "4  unknown    5   may       198         1     -1         0  unknown  "
      ]
     },
     "execution_count": 67,
     "metadata": {},
     "output_type": "execute_result"
    }
   ],
   "source": [
    "subset = df.drop(['y'], axis = 1)\n",
    "subset.head()"
   ]
  },
  {
   "cell_type": "code",
   "execution_count": 68,
   "id": "ec5ceb83",
   "metadata": {
    "scrolled": true
   },
   "outputs": [
    {
     "data": {
      "text/html": [
       "<div>\n",
       "<style scoped>\n",
       "    .dataframe tbody tr th:only-of-type {\n",
       "        vertical-align: middle;\n",
       "    }\n",
       "\n",
       "    .dataframe tbody tr th {\n",
       "        vertical-align: top;\n",
       "    }\n",
       "\n",
       "    .dataframe thead th {\n",
       "        text-align: right;\n",
       "    }\n",
       "</style>\n",
       "<table border=\"1\" class=\"dataframe\">\n",
       "  <thead>\n",
       "    <tr style=\"text-align: right;\">\n",
       "      <th></th>\n",
       "      <th>age</th>\n",
       "      <th>balance</th>\n",
       "      <th>day</th>\n",
       "      <th>duration</th>\n",
       "      <th>campaign</th>\n",
       "      <th>pdays</th>\n",
       "      <th>previous</th>\n",
       "      <th>job_admin.</th>\n",
       "      <th>job_blue-collar</th>\n",
       "      <th>job_entrepreneur</th>\n",
       "      <th>...</th>\n",
       "      <th>month_jun</th>\n",
       "      <th>month_mar</th>\n",
       "      <th>month_may</th>\n",
       "      <th>month_nov</th>\n",
       "      <th>month_oct</th>\n",
       "      <th>month_sep</th>\n",
       "      <th>poutcome_failure</th>\n",
       "      <th>poutcome_other</th>\n",
       "      <th>poutcome_success</th>\n",
       "      <th>poutcome_unknown</th>\n",
       "    </tr>\n",
       "  </thead>\n",
       "  <tbody>\n",
       "    <tr>\n",
       "      <th>0</th>\n",
       "      <td>58</td>\n",
       "      <td>2143</td>\n",
       "      <td>5</td>\n",
       "      <td>261</td>\n",
       "      <td>1</td>\n",
       "      <td>-1</td>\n",
       "      <td>0</td>\n",
       "      <td>0</td>\n",
       "      <td>0</td>\n",
       "      <td>0</td>\n",
       "      <td>...</td>\n",
       "      <td>0</td>\n",
       "      <td>0</td>\n",
       "      <td>1</td>\n",
       "      <td>0</td>\n",
       "      <td>0</td>\n",
       "      <td>0</td>\n",
       "      <td>0</td>\n",
       "      <td>0</td>\n",
       "      <td>0</td>\n",
       "      <td>1</td>\n",
       "    </tr>\n",
       "    <tr>\n",
       "      <th>1</th>\n",
       "      <td>44</td>\n",
       "      <td>29</td>\n",
       "      <td>5</td>\n",
       "      <td>151</td>\n",
       "      <td>1</td>\n",
       "      <td>-1</td>\n",
       "      <td>0</td>\n",
       "      <td>0</td>\n",
       "      <td>0</td>\n",
       "      <td>0</td>\n",
       "      <td>...</td>\n",
       "      <td>0</td>\n",
       "      <td>0</td>\n",
       "      <td>1</td>\n",
       "      <td>0</td>\n",
       "      <td>0</td>\n",
       "      <td>0</td>\n",
       "      <td>0</td>\n",
       "      <td>0</td>\n",
       "      <td>0</td>\n",
       "      <td>1</td>\n",
       "    </tr>\n",
       "    <tr>\n",
       "      <th>2</th>\n",
       "      <td>33</td>\n",
       "      <td>2</td>\n",
       "      <td>5</td>\n",
       "      <td>76</td>\n",
       "      <td>1</td>\n",
       "      <td>-1</td>\n",
       "      <td>0</td>\n",
       "      <td>0</td>\n",
       "      <td>0</td>\n",
       "      <td>1</td>\n",
       "      <td>...</td>\n",
       "      <td>0</td>\n",
       "      <td>0</td>\n",
       "      <td>1</td>\n",
       "      <td>0</td>\n",
       "      <td>0</td>\n",
       "      <td>0</td>\n",
       "      <td>0</td>\n",
       "      <td>0</td>\n",
       "      <td>0</td>\n",
       "      <td>1</td>\n",
       "    </tr>\n",
       "    <tr>\n",
       "      <th>3</th>\n",
       "      <td>47</td>\n",
       "      <td>1506</td>\n",
       "      <td>5</td>\n",
       "      <td>92</td>\n",
       "      <td>1</td>\n",
       "      <td>-1</td>\n",
       "      <td>0</td>\n",
       "      <td>0</td>\n",
       "      <td>1</td>\n",
       "      <td>0</td>\n",
       "      <td>...</td>\n",
       "      <td>0</td>\n",
       "      <td>0</td>\n",
       "      <td>1</td>\n",
       "      <td>0</td>\n",
       "      <td>0</td>\n",
       "      <td>0</td>\n",
       "      <td>0</td>\n",
       "      <td>0</td>\n",
       "      <td>0</td>\n",
       "      <td>1</td>\n",
       "    </tr>\n",
       "    <tr>\n",
       "      <th>4</th>\n",
       "      <td>33</td>\n",
       "      <td>1</td>\n",
       "      <td>5</td>\n",
       "      <td>198</td>\n",
       "      <td>1</td>\n",
       "      <td>-1</td>\n",
       "      <td>0</td>\n",
       "      <td>0</td>\n",
       "      <td>0</td>\n",
       "      <td>0</td>\n",
       "      <td>...</td>\n",
       "      <td>0</td>\n",
       "      <td>0</td>\n",
       "      <td>1</td>\n",
       "      <td>0</td>\n",
       "      <td>0</td>\n",
       "      <td>0</td>\n",
       "      <td>0</td>\n",
       "      <td>0</td>\n",
       "      <td>0</td>\n",
       "      <td>1</td>\n",
       "    </tr>\n",
       "    <tr>\n",
       "      <th>...</th>\n",
       "      <td>...</td>\n",
       "      <td>...</td>\n",
       "      <td>...</td>\n",
       "      <td>...</td>\n",
       "      <td>...</td>\n",
       "      <td>...</td>\n",
       "      <td>...</td>\n",
       "      <td>...</td>\n",
       "      <td>...</td>\n",
       "      <td>...</td>\n",
       "      <td>...</td>\n",
       "      <td>...</td>\n",
       "      <td>...</td>\n",
       "      <td>...</td>\n",
       "      <td>...</td>\n",
       "      <td>...</td>\n",
       "      <td>...</td>\n",
       "      <td>...</td>\n",
       "      <td>...</td>\n",
       "      <td>...</td>\n",
       "      <td>...</td>\n",
       "    </tr>\n",
       "    <tr>\n",
       "      <th>45202</th>\n",
       "      <td>34</td>\n",
       "      <td>557</td>\n",
       "      <td>17</td>\n",
       "      <td>224</td>\n",
       "      <td>1</td>\n",
       "      <td>-1</td>\n",
       "      <td>0</td>\n",
       "      <td>1</td>\n",
       "      <td>0</td>\n",
       "      <td>0</td>\n",
       "      <td>...</td>\n",
       "      <td>0</td>\n",
       "      <td>0</td>\n",
       "      <td>0</td>\n",
       "      <td>1</td>\n",
       "      <td>0</td>\n",
       "      <td>0</td>\n",
       "      <td>0</td>\n",
       "      <td>0</td>\n",
       "      <td>0</td>\n",
       "      <td>1</td>\n",
       "    </tr>\n",
       "    <tr>\n",
       "      <th>45203</th>\n",
       "      <td>23</td>\n",
       "      <td>113</td>\n",
       "      <td>17</td>\n",
       "      <td>266</td>\n",
       "      <td>1</td>\n",
       "      <td>-1</td>\n",
       "      <td>0</td>\n",
       "      <td>0</td>\n",
       "      <td>0</td>\n",
       "      <td>0</td>\n",
       "      <td>...</td>\n",
       "      <td>0</td>\n",
       "      <td>0</td>\n",
       "      <td>0</td>\n",
       "      <td>1</td>\n",
       "      <td>0</td>\n",
       "      <td>0</td>\n",
       "      <td>0</td>\n",
       "      <td>0</td>\n",
       "      <td>0</td>\n",
       "      <td>1</td>\n",
       "    </tr>\n",
       "    <tr>\n",
       "      <th>45205</th>\n",
       "      <td>25</td>\n",
       "      <td>505</td>\n",
       "      <td>17</td>\n",
       "      <td>386</td>\n",
       "      <td>2</td>\n",
       "      <td>-1</td>\n",
       "      <td>0</td>\n",
       "      <td>0</td>\n",
       "      <td>0</td>\n",
       "      <td>0</td>\n",
       "      <td>...</td>\n",
       "      <td>0</td>\n",
       "      <td>0</td>\n",
       "      <td>0</td>\n",
       "      <td>1</td>\n",
       "      <td>0</td>\n",
       "      <td>0</td>\n",
       "      <td>0</td>\n",
       "      <td>0</td>\n",
       "      <td>0</td>\n",
       "      <td>1</td>\n",
       "    </tr>\n",
       "    <tr>\n",
       "      <th>45209</th>\n",
       "      <td>57</td>\n",
       "      <td>668</td>\n",
       "      <td>17</td>\n",
       "      <td>508</td>\n",
       "      <td>4</td>\n",
       "      <td>-1</td>\n",
       "      <td>0</td>\n",
       "      <td>0</td>\n",
       "      <td>1</td>\n",
       "      <td>0</td>\n",
       "      <td>...</td>\n",
       "      <td>0</td>\n",
       "      <td>0</td>\n",
       "      <td>0</td>\n",
       "      <td>1</td>\n",
       "      <td>0</td>\n",
       "      <td>0</td>\n",
       "      <td>0</td>\n",
       "      <td>0</td>\n",
       "      <td>0</td>\n",
       "      <td>1</td>\n",
       "    </tr>\n",
       "    <tr>\n",
       "      <th>45210</th>\n",
       "      <td>37</td>\n",
       "      <td>2971</td>\n",
       "      <td>17</td>\n",
       "      <td>361</td>\n",
       "      <td>2</td>\n",
       "      <td>188</td>\n",
       "      <td>11</td>\n",
       "      <td>0</td>\n",
       "      <td>0</td>\n",
       "      <td>1</td>\n",
       "      <td>...</td>\n",
       "      <td>0</td>\n",
       "      <td>0</td>\n",
       "      <td>0</td>\n",
       "      <td>1</td>\n",
       "      <td>0</td>\n",
       "      <td>0</td>\n",
       "      <td>0</td>\n",
       "      <td>1</td>\n",
       "      <td>0</td>\n",
       "      <td>0</td>\n",
       "    </tr>\n",
       "  </tbody>\n",
       "</table>\n",
       "<p>34580 rows × 51 columns</p>\n",
       "</div>"
      ],
      "text/plain": [
       "       age  balance  day  duration  campaign  pdays  previous  job_admin.  \\\n",
       "0       58     2143    5       261         1     -1         0           0   \n",
       "1       44       29    5       151         1     -1         0           0   \n",
       "2       33        2    5        76         1     -1         0           0   \n",
       "3       47     1506    5        92         1     -1         0           0   \n",
       "4       33        1    5       198         1     -1         0           0   \n",
       "...    ...      ...  ...       ...       ...    ...       ...         ...   \n",
       "45202   34      557   17       224         1     -1         0           1   \n",
       "45203   23      113   17       266         1     -1         0           0   \n",
       "45205   25      505   17       386         2     -1         0           0   \n",
       "45209   57      668   17       508         4     -1         0           0   \n",
       "45210   37     2971   17       361         2    188        11           0   \n",
       "\n",
       "       job_blue-collar  job_entrepreneur  ...  month_jun  month_mar  \\\n",
       "0                    0                 0  ...          0          0   \n",
       "1                    0                 0  ...          0          0   \n",
       "2                    0                 1  ...          0          0   \n",
       "3                    1                 0  ...          0          0   \n",
       "4                    0                 0  ...          0          0   \n",
       "...                ...               ...  ...        ...        ...   \n",
       "45202                0                 0  ...          0          0   \n",
       "45203                0                 0  ...          0          0   \n",
       "45205                0                 0  ...          0          0   \n",
       "45209                1                 0  ...          0          0   \n",
       "45210                0                 1  ...          0          0   \n",
       "\n",
       "       month_may  month_nov  month_oct  month_sep  poutcome_failure  \\\n",
       "0              1          0          0          0                 0   \n",
       "1              1          0          0          0                 0   \n",
       "2              1          0          0          0                 0   \n",
       "3              1          0          0          0                 0   \n",
       "4              1          0          0          0                 0   \n",
       "...          ...        ...        ...        ...               ...   \n",
       "45202          0          1          0          0                 0   \n",
       "45203          0          1          0          0                 0   \n",
       "45205          0          1          0          0                 0   \n",
       "45209          0          1          0          0                 0   \n",
       "45210          0          1          0          0                 0   \n",
       "\n",
       "       poutcome_other  poutcome_success  poutcome_unknown  \n",
       "0                   0                 0                 1  \n",
       "1                   0                 0                 1  \n",
       "2                   0                 0                 1  \n",
       "3                   0                 0                 1  \n",
       "4                   0                 0                 1  \n",
       "...               ...               ...               ...  \n",
       "45202               0                 0                 1  \n",
       "45203               0                 0                 1  \n",
       "45205               0                 0                 1  \n",
       "45209               0                 0                 1  \n",
       "45210               1                 0                 0  \n",
       "\n",
       "[34580 rows x 51 columns]"
      ]
     },
     "execution_count": 68,
     "metadata": {},
     "output_type": "execute_result"
    }
   ],
   "source": [
    "X = pd.get_dummies(subset) #for manipulation\n",
    "X"
   ]
  },
  {
   "cell_type": "markdown",
   "id": "646864e4",
   "metadata": {},
   "source": [
    "# Normalize the data set\n",
    "to minimize redundancy (duplicate data) and to ensure only related data is stored in each table."
   ]
  },
  {
   "cell_type": "code",
   "execution_count": 69,
   "id": "99090970",
   "metadata": {},
   "outputs": [],
   "source": [
    "from sklearn import preprocessing\n",
    "from sklearn.preprocessing import MinMaxScaler"
   ]
  },
  {
   "cell_type": "code",
   "execution_count": 70,
   "id": "8b07f2ca",
   "metadata": {},
   "outputs": [],
   "source": [
    "scaler = MinMaxScaler()"
   ]
  },
  {
   "cell_type": "code",
   "execution_count": 71,
   "id": "e5ab55c1",
   "metadata": {},
   "outputs": [
    {
     "data": {
      "text/html": [
       "<div>\n",
       "<style scoped>\n",
       "    .dataframe tbody tr th:only-of-type {\n",
       "        vertical-align: middle;\n",
       "    }\n",
       "\n",
       "    .dataframe tbody tr th {\n",
       "        vertical-align: top;\n",
       "    }\n",
       "\n",
       "    .dataframe thead th {\n",
       "        text-align: right;\n",
       "    }\n",
       "</style>\n",
       "<table border=\"1\" class=\"dataframe\">\n",
       "  <thead>\n",
       "    <tr style=\"text-align: right;\">\n",
       "      <th></th>\n",
       "      <th>age</th>\n",
       "      <th>balance</th>\n",
       "      <th>day</th>\n",
       "      <th>duration</th>\n",
       "      <th>campaign</th>\n",
       "      <th>pdays</th>\n",
       "      <th>previous</th>\n",
       "      <th>job_admin.</th>\n",
       "      <th>job_blue-collar</th>\n",
       "      <th>job_entrepreneur</th>\n",
       "      <th>...</th>\n",
       "      <th>month_jun</th>\n",
       "      <th>month_mar</th>\n",
       "      <th>month_may</th>\n",
       "      <th>month_nov</th>\n",
       "      <th>month_oct</th>\n",
       "      <th>month_sep</th>\n",
       "      <th>poutcome_failure</th>\n",
       "      <th>poutcome_other</th>\n",
       "      <th>poutcome_success</th>\n",
       "      <th>poutcome_unknown</th>\n",
       "    </tr>\n",
       "  </thead>\n",
       "  <tbody>\n",
       "    <tr>\n",
       "      <th>0</th>\n",
       "      <td>0.769231</td>\n",
       "      <td>0.888986</td>\n",
       "      <td>0.133333</td>\n",
       "      <td>0.411672</td>\n",
       "      <td>0.0</td>\n",
       "      <td>0.000000</td>\n",
       "      <td>0.00</td>\n",
       "      <td>0.0</td>\n",
       "      <td>0.0</td>\n",
       "      <td>0.0</td>\n",
       "      <td>...</td>\n",
       "      <td>0.0</td>\n",
       "      <td>0.0</td>\n",
       "      <td>1.0</td>\n",
       "      <td>0.0</td>\n",
       "      <td>0.0</td>\n",
       "      <td>0.0</td>\n",
       "      <td>0.0</td>\n",
       "      <td>0.0</td>\n",
       "      <td>0.0</td>\n",
       "      <td>1.0</td>\n",
       "    </tr>\n",
       "    <tr>\n",
       "      <th>1</th>\n",
       "      <td>0.500000</td>\n",
       "      <td>0.704050</td>\n",
       "      <td>0.133333</td>\n",
       "      <td>0.238170</td>\n",
       "      <td>0.0</td>\n",
       "      <td>0.000000</td>\n",
       "      <td>0.00</td>\n",
       "      <td>0.0</td>\n",
       "      <td>0.0</td>\n",
       "      <td>0.0</td>\n",
       "      <td>...</td>\n",
       "      <td>0.0</td>\n",
       "      <td>0.0</td>\n",
       "      <td>1.0</td>\n",
       "      <td>0.0</td>\n",
       "      <td>0.0</td>\n",
       "      <td>0.0</td>\n",
       "      <td>0.0</td>\n",
       "      <td>0.0</td>\n",
       "      <td>0.0</td>\n",
       "      <td>1.0</td>\n",
       "    </tr>\n",
       "    <tr>\n",
       "      <th>2</th>\n",
       "      <td>0.288462</td>\n",
       "      <td>0.701688</td>\n",
       "      <td>0.133333</td>\n",
       "      <td>0.119874</td>\n",
       "      <td>0.0</td>\n",
       "      <td>0.000000</td>\n",
       "      <td>0.00</td>\n",
       "      <td>0.0</td>\n",
       "      <td>0.0</td>\n",
       "      <td>1.0</td>\n",
       "      <td>...</td>\n",
       "      <td>0.0</td>\n",
       "      <td>0.0</td>\n",
       "      <td>1.0</td>\n",
       "      <td>0.0</td>\n",
       "      <td>0.0</td>\n",
       "      <td>0.0</td>\n",
       "      <td>0.0</td>\n",
       "      <td>0.0</td>\n",
       "      <td>0.0</td>\n",
       "      <td>1.0</td>\n",
       "    </tr>\n",
       "    <tr>\n",
       "      <th>3</th>\n",
       "      <td>0.557692</td>\n",
       "      <td>0.833260</td>\n",
       "      <td>0.133333</td>\n",
       "      <td>0.145110</td>\n",
       "      <td>0.0</td>\n",
       "      <td>0.000000</td>\n",
       "      <td>0.00</td>\n",
       "      <td>0.0</td>\n",
       "      <td>1.0</td>\n",
       "      <td>0.0</td>\n",
       "      <td>...</td>\n",
       "      <td>0.0</td>\n",
       "      <td>0.0</td>\n",
       "      <td>1.0</td>\n",
       "      <td>0.0</td>\n",
       "      <td>0.0</td>\n",
       "      <td>0.0</td>\n",
       "      <td>0.0</td>\n",
       "      <td>0.0</td>\n",
       "      <td>0.0</td>\n",
       "      <td>1.0</td>\n",
       "    </tr>\n",
       "    <tr>\n",
       "      <th>4</th>\n",
       "      <td>0.288462</td>\n",
       "      <td>0.701601</td>\n",
       "      <td>0.133333</td>\n",
       "      <td>0.312303</td>\n",
       "      <td>0.0</td>\n",
       "      <td>0.000000</td>\n",
       "      <td>0.00</td>\n",
       "      <td>0.0</td>\n",
       "      <td>0.0</td>\n",
       "      <td>0.0</td>\n",
       "      <td>...</td>\n",
       "      <td>0.0</td>\n",
       "      <td>0.0</td>\n",
       "      <td>1.0</td>\n",
       "      <td>0.0</td>\n",
       "      <td>0.0</td>\n",
       "      <td>0.0</td>\n",
       "      <td>0.0</td>\n",
       "      <td>0.0</td>\n",
       "      <td>0.0</td>\n",
       "      <td>1.0</td>\n",
       "    </tr>\n",
       "    <tr>\n",
       "      <th>...</th>\n",
       "      <td>...</td>\n",
       "      <td>...</td>\n",
       "      <td>...</td>\n",
       "      <td>...</td>\n",
       "      <td>...</td>\n",
       "      <td>...</td>\n",
       "      <td>...</td>\n",
       "      <td>...</td>\n",
       "      <td>...</td>\n",
       "      <td>...</td>\n",
       "      <td>...</td>\n",
       "      <td>...</td>\n",
       "      <td>...</td>\n",
       "      <td>...</td>\n",
       "      <td>...</td>\n",
       "      <td>...</td>\n",
       "      <td>...</td>\n",
       "      <td>...</td>\n",
       "      <td>...</td>\n",
       "      <td>...</td>\n",
       "      <td>...</td>\n",
       "    </tr>\n",
       "    <tr>\n",
       "      <th>34575</th>\n",
       "      <td>0.307692</td>\n",
       "      <td>0.750241</td>\n",
       "      <td>0.533333</td>\n",
       "      <td>0.353312</td>\n",
       "      <td>0.0</td>\n",
       "      <td>0.000000</td>\n",
       "      <td>0.00</td>\n",
       "      <td>1.0</td>\n",
       "      <td>0.0</td>\n",
       "      <td>0.0</td>\n",
       "      <td>...</td>\n",
       "      <td>0.0</td>\n",
       "      <td>0.0</td>\n",
       "      <td>0.0</td>\n",
       "      <td>1.0</td>\n",
       "      <td>0.0</td>\n",
       "      <td>0.0</td>\n",
       "      <td>0.0</td>\n",
       "      <td>0.0</td>\n",
       "      <td>0.0</td>\n",
       "      <td>1.0</td>\n",
       "    </tr>\n",
       "    <tr>\n",
       "      <th>34576</th>\n",
       "      <td>0.096154</td>\n",
       "      <td>0.711399</td>\n",
       "      <td>0.533333</td>\n",
       "      <td>0.419558</td>\n",
       "      <td>0.0</td>\n",
       "      <td>0.000000</td>\n",
       "      <td>0.00</td>\n",
       "      <td>0.0</td>\n",
       "      <td>0.0</td>\n",
       "      <td>0.0</td>\n",
       "      <td>...</td>\n",
       "      <td>0.0</td>\n",
       "      <td>0.0</td>\n",
       "      <td>0.0</td>\n",
       "      <td>1.0</td>\n",
       "      <td>0.0</td>\n",
       "      <td>0.0</td>\n",
       "      <td>0.0</td>\n",
       "      <td>0.0</td>\n",
       "      <td>0.0</td>\n",
       "      <td>1.0</td>\n",
       "    </tr>\n",
       "    <tr>\n",
       "      <th>34577</th>\n",
       "      <td>0.134615</td>\n",
       "      <td>0.745692</td>\n",
       "      <td>0.533333</td>\n",
       "      <td>0.608833</td>\n",
       "      <td>0.2</td>\n",
       "      <td>0.000000</td>\n",
       "      <td>0.00</td>\n",
       "      <td>0.0</td>\n",
       "      <td>0.0</td>\n",
       "      <td>0.0</td>\n",
       "      <td>...</td>\n",
       "      <td>0.0</td>\n",
       "      <td>0.0</td>\n",
       "      <td>0.0</td>\n",
       "      <td>1.0</td>\n",
       "      <td>0.0</td>\n",
       "      <td>0.0</td>\n",
       "      <td>0.0</td>\n",
       "      <td>0.0</td>\n",
       "      <td>0.0</td>\n",
       "      <td>1.0</td>\n",
       "    </tr>\n",
       "    <tr>\n",
       "      <th>34578</th>\n",
       "      <td>0.750000</td>\n",
       "      <td>0.759951</td>\n",
       "      <td>0.533333</td>\n",
       "      <td>0.801262</td>\n",
       "      <td>0.6</td>\n",
       "      <td>0.000000</td>\n",
       "      <td>0.00</td>\n",
       "      <td>0.0</td>\n",
       "      <td>1.0</td>\n",
       "      <td>0.0</td>\n",
       "      <td>...</td>\n",
       "      <td>0.0</td>\n",
       "      <td>0.0</td>\n",
       "      <td>0.0</td>\n",
       "      <td>1.0</td>\n",
       "      <td>0.0</td>\n",
       "      <td>0.0</td>\n",
       "      <td>0.0</td>\n",
       "      <td>0.0</td>\n",
       "      <td>0.0</td>\n",
       "      <td>1.0</td>\n",
       "    </tr>\n",
       "    <tr>\n",
       "      <th>34579</th>\n",
       "      <td>0.365385</td>\n",
       "      <td>0.961421</td>\n",
       "      <td>0.533333</td>\n",
       "      <td>0.569401</td>\n",
       "      <td>0.2</td>\n",
       "      <td>0.216743</td>\n",
       "      <td>0.04</td>\n",
       "      <td>0.0</td>\n",
       "      <td>0.0</td>\n",
       "      <td>1.0</td>\n",
       "      <td>...</td>\n",
       "      <td>0.0</td>\n",
       "      <td>0.0</td>\n",
       "      <td>0.0</td>\n",
       "      <td>1.0</td>\n",
       "      <td>0.0</td>\n",
       "      <td>0.0</td>\n",
       "      <td>0.0</td>\n",
       "      <td>1.0</td>\n",
       "      <td>0.0</td>\n",
       "      <td>0.0</td>\n",
       "    </tr>\n",
       "  </tbody>\n",
       "</table>\n",
       "<p>34580 rows × 51 columns</p>\n",
       "</div>"
      ],
      "text/plain": [
       "            age   balance       day  duration  campaign     pdays  previous  \\\n",
       "0      0.769231  0.888986  0.133333  0.411672       0.0  0.000000      0.00   \n",
       "1      0.500000  0.704050  0.133333  0.238170       0.0  0.000000      0.00   \n",
       "2      0.288462  0.701688  0.133333  0.119874       0.0  0.000000      0.00   \n",
       "3      0.557692  0.833260  0.133333  0.145110       0.0  0.000000      0.00   \n",
       "4      0.288462  0.701601  0.133333  0.312303       0.0  0.000000      0.00   \n",
       "...         ...       ...       ...       ...       ...       ...       ...   \n",
       "34575  0.307692  0.750241  0.533333  0.353312       0.0  0.000000      0.00   \n",
       "34576  0.096154  0.711399  0.533333  0.419558       0.0  0.000000      0.00   \n",
       "34577  0.134615  0.745692  0.533333  0.608833       0.2  0.000000      0.00   \n",
       "34578  0.750000  0.759951  0.533333  0.801262       0.6  0.000000      0.00   \n",
       "34579  0.365385  0.961421  0.533333  0.569401       0.2  0.216743      0.04   \n",
       "\n",
       "       job_admin.  job_blue-collar  job_entrepreneur  ...  month_jun  \\\n",
       "0             0.0              0.0               0.0  ...        0.0   \n",
       "1             0.0              0.0               0.0  ...        0.0   \n",
       "2             0.0              0.0               1.0  ...        0.0   \n",
       "3             0.0              1.0               0.0  ...        0.0   \n",
       "4             0.0              0.0               0.0  ...        0.0   \n",
       "...           ...              ...               ...  ...        ...   \n",
       "34575         1.0              0.0               0.0  ...        0.0   \n",
       "34576         0.0              0.0               0.0  ...        0.0   \n",
       "34577         0.0              0.0               0.0  ...        0.0   \n",
       "34578         0.0              1.0               0.0  ...        0.0   \n",
       "34579         0.0              0.0               1.0  ...        0.0   \n",
       "\n",
       "       month_mar  month_may  month_nov  month_oct  month_sep  \\\n",
       "0            0.0        1.0        0.0        0.0        0.0   \n",
       "1            0.0        1.0        0.0        0.0        0.0   \n",
       "2            0.0        1.0        0.0        0.0        0.0   \n",
       "3            0.0        1.0        0.0        0.0        0.0   \n",
       "4            0.0        1.0        0.0        0.0        0.0   \n",
       "...          ...        ...        ...        ...        ...   \n",
       "34575        0.0        0.0        1.0        0.0        0.0   \n",
       "34576        0.0        0.0        1.0        0.0        0.0   \n",
       "34577        0.0        0.0        1.0        0.0        0.0   \n",
       "34578        0.0        0.0        1.0        0.0        0.0   \n",
       "34579        0.0        0.0        1.0        0.0        0.0   \n",
       "\n",
       "       poutcome_failure  poutcome_other  poutcome_success  poutcome_unknown  \n",
       "0                   0.0             0.0               0.0               1.0  \n",
       "1                   0.0             0.0               0.0               1.0  \n",
       "2                   0.0             0.0               0.0               1.0  \n",
       "3                   0.0             0.0               0.0               1.0  \n",
       "4                   0.0             0.0               0.0               1.0  \n",
       "...                 ...             ...               ...               ...  \n",
       "34575               0.0             0.0               0.0               1.0  \n",
       "34576               0.0             0.0               0.0               1.0  \n",
       "34577               0.0             0.0               0.0               1.0  \n",
       "34578               0.0             0.0               0.0               1.0  \n",
       "34579               0.0             1.0               0.0               0.0  \n",
       "\n",
       "[34580 rows x 51 columns]"
      ]
     },
     "execution_count": 71,
     "metadata": {},
     "output_type": "execute_result"
    }
   ],
   "source": [
    "scaled_df = pd.DataFrame(scaler.fit_transform(X),columns = X.columns)\n",
    "scaled_df\n",
    "#fit_transform() is used on the training data so that we can scale the training data and also learn the \n",
    "#scaling parameters of that data."
   ]
  },
  {
   "cell_type": "code",
   "execution_count": 72,
   "id": "5d221956",
   "metadata": {},
   "outputs": [
    {
     "data": {
      "text/plain": [
       "0         no\n",
       "1         no\n",
       "2         no\n",
       "3         no\n",
       "4         no\n",
       "        ... \n",
       "45202    yes\n",
       "45203    yes\n",
       "45205    yes\n",
       "45209     no\n",
       "45210     no\n",
       "Name: y, Length: 34580, dtype: category\n",
       "Categories (2, object): ['no', 'yes']"
      ]
     },
     "execution_count": 72,
     "metadata": {},
     "output_type": "execute_result"
    }
   ],
   "source": [
    "y = df['y']\n",
    "y"
   ]
  },
  {
   "cell_type": "markdown",
   "id": "be45f089",
   "metadata": {},
   "source": [
    "# Dividing the dataset into train test split"
   ]
  },
  {
   "cell_type": "code",
   "execution_count": 73,
   "id": "05734ea2",
   "metadata": {},
   "outputs": [],
   "source": [
    "from sklearn.model_selection import train_test_split\n",
    "train_input,test_input,train_output,test_output = train_test_split(scaled_df, y ,test_size=0.20,random_state = 3)"
   ]
  },
  {
   "cell_type": "markdown",
   "id": "b52aa3ea",
   "metadata": {},
   "source": [
    "# Checking the target variable is balanced or not in the training set"
   ]
  },
  {
   "cell_type": "code",
   "execution_count": 74,
   "id": "1a8efe46",
   "metadata": {},
   "outputs": [
    {
     "data": {
      "text/plain": [
       "no     31728\n",
       "yes     2852\n",
       "Name: y, dtype: int64"
      ]
     },
     "execution_count": 74,
     "metadata": {},
     "output_type": "execute_result"
    }
   ],
   "source": [
    "y.value_counts()"
   ]
  },
  {
   "cell_type": "markdown",
   "id": "f5ff7855",
   "metadata": {},
   "source": [
    "# if your target variable is not blanced then use SMOTE for balancing the target variable."
   ]
  },
  {
   "cell_type": "code",
   "execution_count": 75,
   "id": "40f29da9",
   "metadata": {},
   "outputs": [],
   "source": [
    "from imblearn.over_sampling import SMOTE"
   ]
  },
  {
   "cell_type": "code",
   "execution_count": 76,
   "id": "6156941b",
   "metadata": {},
   "outputs": [],
   "source": [
    "SMOTE = SMOTE()"
   ]
  },
  {
   "cell_type": "code",
   "execution_count": 77,
   "id": "66e83c6d",
   "metadata": {},
   "outputs": [],
   "source": [
    "train_input_SMOTE,train_output_SMOTE = SMOTE.fit_resample(train_input,train_output)"
   ]
  },
  {
   "cell_type": "code",
   "execution_count": 78,
   "id": "d7b1ef93",
   "metadata": {},
   "outputs": [
    {
     "name": "stdout",
     "output_type": "stream",
     "text": [
      "train_input_SMOTE (50804, 51) \n",
      " train_output_SMOTE (50804,) \n",
      "\n"
     ]
    }
   ],
   "source": [
    "print(\"train_input_SMOTE\",train_input_SMOTE.shape,\"\\n\",\n",
    "     \"train_output_SMOTE\",train_output_SMOTE.shape,\"\\n\")"
   ]
  },
  {
   "cell_type": "code",
   "execution_count": 79,
   "id": "ebd02782",
   "metadata": {},
   "outputs": [
    {
     "data": {
      "text/plain": [
       "no     25402\n",
       "yes    25402\n",
       "Name: y, dtype: int64"
      ]
     },
     "execution_count": 79,
     "metadata": {},
     "output_type": "execute_result"
    }
   ],
   "source": [
    "train_output_SMOTE.value_counts()"
   ]
  },
  {
   "cell_type": "markdown",
   "id": "736a9911",
   "metadata": {},
   "source": [
    "# find the accuracy corresponding to Logistic Regression Model"
   ]
  },
  {
   "cell_type": "code",
   "execution_count": 80,
   "id": "8865b73b",
   "metadata": {},
   "outputs": [],
   "source": [
    "from sklearn.linear_model import LogisticRegression \n",
    "from sklearn.metrics import classification_report, confusion_matrix , accuracy_score\n",
    "from sklearn import metrics\n",
    "#logistic regression is used to predict the probability of a categorical dependent variable"
   ]
  },
  {
   "cell_type": "code",
   "execution_count": 81,
   "id": "daf3b068",
   "metadata": {},
   "outputs": [],
   "source": [
    "lr = LogisticRegression()"
   ]
  },
  {
   "cell_type": "code",
   "execution_count": 82,
   "id": "3b5c3b69",
   "metadata": {},
   "outputs": [],
   "source": [
    "Model = lr.fit(train_input_SMOTE,train_output_SMOTE)"
   ]
  },
  {
   "cell_type": "code",
   "execution_count": 83,
   "id": "64690b9c",
   "metadata": {},
   "outputs": [],
   "source": [
    "test_pred = Model.predict(test_input)"
   ]
  },
  {
   "cell_type": "code",
   "execution_count": 84,
   "id": "c9afd093",
   "metadata": {},
   "outputs": [
    {
     "data": {
      "text/plain": [
       "array(['no', 'no', 'no', ..., 'no', 'no', 'no'], dtype=object)"
      ]
     },
     "execution_count": 84,
     "metadata": {},
     "output_type": "execute_result"
    }
   ],
   "source": [
    "test_pred"
   ]
  },
  {
   "cell_type": "code",
   "execution_count": 85,
   "id": "a0b708ce",
   "metadata": {},
   "outputs": [],
   "source": [
    "from sklearn.metrics import accuracy_score"
   ]
  },
  {
   "cell_type": "code",
   "execution_count": 86,
   "id": "e8fccc13",
   "metadata": {},
   "outputs": [],
   "source": [
    "logistic_acc = accuracy_score(test_output,test_pred)*100"
   ]
  },
  {
   "cell_type": "code",
   "execution_count": 87,
   "id": "4d1196e2",
   "metadata": {
    "scrolled": false
   },
   "outputs": [
    {
     "data": {
      "text/plain": [
       "84.15268941584732"
      ]
     },
     "execution_count": 87,
     "metadata": {},
     "output_type": "execute_result"
    }
   ],
   "source": [
    "logistic_acc"
   ]
  },
  {
   "cell_type": "markdown",
   "id": "0b077a86",
   "metadata": {},
   "source": [
    "# to make a confusion matrix for LR\n",
    " A confusion matrix is a tabular summary of the of correct and incorrect predictions made by classifier"
   ]
  },
  {
   "cell_type": "code",
   "execution_count": 88,
   "id": "eb2a7168",
   "metadata": {},
   "outputs": [
    {
     "data": {
      "text/plain": [
       "array([[5359,  967],\n",
       "       [ 129,  461]], dtype=int64)"
      ]
     },
     "execution_count": 88,
     "metadata": {},
     "output_type": "execute_result"
    }
   ],
   "source": [
    "# A confusion matrix is a tabular summary of the number of correct and incorrect predictions made by a classifier\n",
    "cf_matrix_lr = confusion_matrix(test_output, test_pred)\n",
    "cf_matrix_lr"
   ]
  },
  {
   "cell_type": "code",
   "execution_count": 89,
   "id": "bcb17332",
   "metadata": {},
   "outputs": [
    {
     "data": {
      "image/png": "[encoded data removed]",
      "text/plain": [
       "<Figure size 432x288 with 2 Axes>"
      ]
     },
     "metadata": {
      "needs_background": "light"
     },
     "output_type": "display_data"
    }
   ],
   "source": [
    "## Display the visualization of the Confusion Matrix.\n",
    "\n",
    "ax = sb.heatmap(cf_matrix_lr, annot=True, cmap='Reds')\n",
    "\n",
    "ax.set_title('Seaborn Confusion Matrix with labels\\n\\n');\n",
    "ax.set_xlabel('\\nPredicted Values')\n",
    "ax.set_ylabel('Actual Values ');\n",
    "\n",
    "\n",
    "\n",
    "plt.show()"
   ]
  },
  {
   "cell_type": "code",
   "execution_count": 90,
   "id": "9842e0f1",
   "metadata": {},
   "outputs": [
    {
     "name": "stdout",
     "output_type": "stream",
     "text": [
      "              precision    recall  f1-score   support\n",
      "\n",
      "          no       0.98      0.85      0.91      6326\n",
      "         yes       0.32      0.78      0.46       590\n",
      "\n",
      "    accuracy                           0.84      6916\n",
      "   macro avg       0.65      0.81      0.68      6916\n",
      "weighted avg       0.92      0.84      0.87      6916\n",
      "\n"
     ]
    }
   ],
   "source": [
    "print(classification_report(test_output,test_pred))"
   ]
  },
  {
   "cell_type": "markdown",
   "id": "997a3727",
   "metadata": {},
   "source": [
    "# KNN "
   ]
  },
  {
   "cell_type": "code",
   "execution_count": 91,
   "id": "c9fdbaa7",
   "metadata": {},
   "outputs": [],
   "source": [
    "from sklearn.neighbors import KNeighborsClassifier"
   ]
  },
  {
   "cell_type": "code",
   "execution_count": 92,
   "id": "82c03c47",
   "metadata": {},
   "outputs": [],
   "source": [
    "knnmodel=KNeighborsClassifier()"
   ]
  },
  {
   "cell_type": "code",
   "execution_count": 93,
   "id": "b4c4ce18",
   "metadata": {},
   "outputs": [
    {
     "data": {
      "text/html": [
       "<style>#sk-container-id-1 {color: black;background-color: white;}#sk-container-id-1 pre{padding: 0;}#sk-container-id-1 div.sk-toggleable {background-color: white;}#sk-container-id-1 label.sk-toggleable__label {cursor: pointer;display: block;width: 100%;margin-bottom: 0;padding: 0.3em;box-sizing: border-box;text-align: center;}#sk-container-id-1 label.sk-toggleable__label-arrow:before {content: \"▸\";float: left;margin-right: 0.25em;color: #696969;}#sk-container-id-1 label.sk-toggleable__label-arrow:hover:before {color: black;}#sk-container-id-1 div.sk-estimator:hover label.sk-toggleable__label-arrow:before {color: black;}#sk-container-id-1 div.sk-toggleable__content {max-height: 0;max-width: 0;overflow: hidden;text-align: left;background-color: #f0f8ff;}#sk-container-id-1 div.sk-toggleable__content pre {margin: 0.2em;color: black;border-radius: 0.25em;background-color: #f0f8ff;}#sk-container-id-1 input.sk-toggleable__control:checked~div.sk-toggleable__content {max-height: 200px;max-width: 100%;overflow: auto;}#sk-container-id-1 input.sk-toggleable__control:checked~label.sk-toggleable__label-arrow:before {content: \"▾\";}#sk-container-id-1 div.sk-estimator input.sk-toggleable__control:checked~label.sk-toggleable__label {background-color: #d4ebff;}#sk-container-id-1 div.sk-label input.sk-toggleable__control:checked~label.sk-toggleable__label {background-color: #d4ebff;}#sk-container-id-1 input.sk-hidden--visually {border: 0;clip: rect(1px 1px 1px 1px);clip: rect(1px, 1px, 1px, 1px);height: 1px;margin: -1px;overflow: hidden;padding: 0;position: absolute;width: 1px;}#sk-container-id-1 div.sk-estimator {font-family: monospace;background-color: #f0f8ff;border: 1px dotted black;border-radius: 0.25em;box-sizing: border-box;margin-bottom: 0.5em;}#sk-container-id-1 div.sk-estimator:hover {background-color: #d4ebff;}#sk-container-id-1 div.sk-parallel-item::after {content: \"\";width: 100%;border-bottom: 1px solid gray;flex-grow: 1;}#sk-container-id-1 div.sk-label:hover label.sk-toggleable__label {background-color: #d4ebff;}#sk-container-id-1 div.sk-serial::before {content: \"\";position: absolute;border-left: 1px solid gray;box-sizing: border-box;top: 0;bottom: 0;left: 50%;z-index: 0;}#sk-container-id-1 div.sk-serial {display: flex;flex-direction: column;align-items: center;background-color: white;padding-right: 0.2em;padding-left: 0.2em;position: relative;}#sk-container-id-1 div.sk-item {position: relative;z-index: 1;}#sk-container-id-1 div.sk-parallel {display: flex;align-items: stretch;justify-content: center;background-color: white;position: relative;}#sk-container-id-1 div.sk-item::before, #sk-container-id-1 div.sk-parallel-item::before {content: \"\";position: absolute;border-left: 1px solid gray;box-sizing: border-box;top: 0;bottom: 0;left: 50%;z-index: -1;}#sk-container-id-1 div.sk-parallel-item {display: flex;flex-direction: column;z-index: 1;position: relative;background-color: white;}#sk-container-id-1 div.sk-parallel-item:first-child::after {align-self: flex-end;width: 50%;}#sk-container-id-1 div.sk-parallel-item:last-child::after {align-self: flex-start;width: 50%;}#sk-container-id-1 div.sk-parallel-item:only-child::after {width: 0;}#sk-container-id-1 div.sk-dashed-wrapped {border: 1px dashed gray;margin: 0 0.4em 0.5em 0.4em;box-sizing: border-box;padding-bottom: 0.4em;background-color: white;}#sk-container-id-1 div.sk-label label {font-family: monospace;font-weight: bold;display: inline-block;line-height: 1.2em;}#sk-container-id-1 div.sk-label-container {text-align: center;}#sk-container-id-1 div.sk-container {/* jupyter's `normalize.less` sets `[hidden] { display: none; }` but bootstrap.min.css set `[hidden] { display: none !important; }` so we also need the `!important` here to be able to override the default hidden behavior on the sphinx rendered scikit-learn.org. See: https://github.com/scikit-learn/scikit-learn/issues/21755 */display: inline-block !important;position: relative;}#sk-container-id-1 div.sk-text-repr-fallback {display: none;}</style><div id=\"sk-container-id-1\" class=\"sk-top-container\"><div class=\"sk-text-repr-fallback\"><pre>KNeighborsClassifier()</pre><b>In a Jupyter environment, please rerun this cell to show the HTML representation or trust the notebook. <br />On GitHub, the HTML representation is unable to render, please try loading this page with nbviewer.org.</b></div><div class=\"sk-container\" hidden><div class=\"sk-item\"><div class=\"sk-estimator sk-toggleable\"><input class=\"sk-toggleable__control sk-hidden--visually\" id=\"sk-estimator-id-1\" type=\"checkbox\" checked><label for=\"sk-estimator-id-1\" class=\"sk-toggleable__label sk-toggleable__label-arrow\">KNeighborsClassifier</label><div class=\"sk-toggleable__content\"><pre>KNeighborsClassifier()</pre></div></div></div></div></div>"
      ],
      "text/plain": [
       "KNeighborsClassifier()"
      ]
     },
     "execution_count": 93,
     "metadata": {},
     "output_type": "execute_result"
    }
   ],
   "source": [
    "knnmodel.fit(train_input_SMOTE,train_output_SMOTE)"
   ]
  },
  {
   "cell_type": "code",
   "execution_count": 94,
   "id": "99807270",
   "metadata": {},
   "outputs": [],
   "source": [
    "from sklearn.metrics import accuracy_score"
   ]
  },
  {
   "cell_type": "code",
   "execution_count": 95,
   "id": "62033945",
   "metadata": {},
   "outputs": [],
   "source": [
    "predictKNN = knnmodel.predict(test_input)"
   ]
  },
  {
   "cell_type": "code",
   "execution_count": 96,
   "id": "049e240f",
   "metadata": {},
   "outputs": [],
   "source": [
    "knn_acc = accuracy_score(test_output,predictKNN)*100"
   ]
  },
  {
   "cell_type": "code",
   "execution_count": 97,
   "id": "726ec896",
   "metadata": {},
   "outputs": [
    {
     "data": {
      "text/plain": [
       "84.73105841526895"
      ]
     },
     "execution_count": 97,
     "metadata": {},
     "output_type": "execute_result"
    }
   ],
   "source": [
    "knn_acc"
   ]
  },
  {
   "cell_type": "code",
   "execution_count": 98,
   "id": "bc17a1a2",
   "metadata": {},
   "outputs": [
    {
     "data": {
      "text/plain": [
       "array([[5359,  967],\n",
       "       [ 129,  461]], dtype=int64)"
      ]
     },
     "execution_count": 98,
     "metadata": {},
     "output_type": "execute_result"
    }
   ],
   "source": [
    "cf_matrix_knn = confusion_matrix(test_output, test_pred)\n",
    "cf_matrix_knn"
   ]
  },
  {
   "cell_type": "code",
   "execution_count": 99,
   "id": "70a30d8c",
   "metadata": {},
   "outputs": [
    {
     "data": {
      "image/png": "[encoded data removed]",
      "text/plain": [
       "<Figure size 432x288 with 2 Axes>"
      ]
     },
     "metadata": {
      "needs_background": "light"
     },
     "output_type": "display_data"
    }
   ],
   "source": [
    "ax = sb.heatmap(cf_matrix_knn, annot=True, cmap='Reds')\n",
    "\n",
    "ax.set_title('Seaborn Confusion Matrix with labels\\n\\n');\n",
    "ax.set_xlabel('\\nPredicted Values')\n",
    "ax.set_ylabel('Actual Values ');\n",
    "\n",
    "\n",
    "\n",
    "plt.show()"
   ]
  },
  {
   "cell_type": "code",
   "execution_count": 100,
   "id": "9ca56bbd",
   "metadata": {},
   "outputs": [
    {
     "name": "stdout",
     "output_type": "stream",
     "text": [
      "              precision    recall  f1-score   support\n",
      "\n",
      "          no       0.96      0.86      0.91      6326\n",
      "         yes       0.31      0.66      0.42       590\n",
      "\n",
      "    accuracy                           0.85      6916\n",
      "   macro avg       0.64      0.76      0.67      6916\n",
      "weighted avg       0.91      0.85      0.87      6916\n",
      "\n"
     ]
    }
   ],
   "source": [
    "print(classification_report(test_output,predictKNN))"
   ]
  },
  {
   "cell_type": "markdown",
   "id": "ae66e64a",
   "metadata": {},
   "source": [
    "# Random forest"
   ]
  },
  {
   "cell_type": "code",
   "execution_count": 101,
   "id": "2b32e2bd",
   "metadata": {},
   "outputs": [],
   "source": [
    "from sklearn.ensemble import RandomForestClassifier #to improve the predictive accuracy and control over-fitting"
   ]
  },
  {
   "cell_type": "code",
   "execution_count": 102,
   "id": "d60ae3d7",
   "metadata": {},
   "outputs": [],
   "source": [
    "rfc= RandomForestClassifier()"
   ]
  },
  {
   "cell_type": "code",
   "execution_count": 103,
   "id": "65a330ea",
   "metadata": {},
   "outputs": [
    {
     "data": {
      "text/html": [
       "<style>#sk-container-id-2 {color: black;background-color: white;}#sk-container-id-2 pre{padding: 0;}#sk-container-id-2 div.sk-toggleable {background-color: white;}#sk-container-id-2 label.sk-toggleable__label {cursor: pointer;display: block;width: 100%;margin-bottom: 0;padding: 0.3em;box-sizing: border-box;text-align: center;}#sk-container-id-2 label.sk-toggleable__label-arrow:before {content: \"▸\";float: left;margin-right: 0.25em;color: #696969;}#sk-container-id-2 label.sk-toggleable__label-arrow:hover:before {color: black;}#sk-container-id-2 div.sk-estimator:hover label.sk-toggleable__label-arrow:before {color: black;}#sk-container-id-2 div.sk-toggleable__content {max-height: 0;max-width: 0;overflow: hidden;text-align: left;background-color: #f0f8ff;}#sk-container-id-2 div.sk-toggleable__content pre {margin: 0.2em;color: black;border-radius: 0.25em;background-color: #f0f8ff;}#sk-container-id-2 input.sk-toggleable__control:checked~div.sk-toggleable__content {max-height: 200px;max-width: 100%;overflow: auto;}#sk-container-id-2 input.sk-toggleable__control:checked~label.sk-toggleable__label-arrow:before {content: \"▾\";}#sk-container-id-2 div.sk-estimator input.sk-toggleable__control:checked~label.sk-toggleable__label {background-color: #d4ebff;}#sk-container-id-2 div.sk-label input.sk-toggleable__control:checked~label.sk-toggleable__label {background-color: #d4ebff;}#sk-container-id-2 input.sk-hidden--visually {border: 0;clip: rect(1px 1px 1px 1px);clip: rect(1px, 1px, 1px, 1px);height: 1px;margin: -1px;overflow: hidden;padding: 0;position: absolute;width: 1px;}#sk-container-id-2 div.sk-estimator {font-family: monospace;background-color: #f0f8ff;border: 1px dotted black;border-radius: 0.25em;box-sizing: border-box;margin-bottom: 0.5em;}#sk-container-id-2 div.sk-estimator:hover {background-color: #d4ebff;}#sk-container-id-2 div.sk-parallel-item::after {content: \"\";width: 100%;border-bottom: 1px solid gray;flex-grow: 1;}#sk-container-id-2 div.sk-label:hover label.sk-toggleable__label {background-color: #d4ebff;}#sk-container-id-2 div.sk-serial::before {content: \"\";position: absolute;border-left: 1px solid gray;box-sizing: border-box;top: 0;bottom: 0;left: 50%;z-index: 0;}#sk-container-id-2 div.sk-serial {display: flex;flex-direction: column;align-items: center;background-color: white;padding-right: 0.2em;padding-left: 0.2em;position: relative;}#sk-container-id-2 div.sk-item {position: relative;z-index: 1;}#sk-container-id-2 div.sk-parallel {display: flex;align-items: stretch;justify-content: center;background-color: white;position: relative;}#sk-container-id-2 div.sk-item::before, #sk-container-id-2 div.sk-parallel-item::before {content: \"\";position: absolute;border-left: 1px solid gray;box-sizing: border-box;top: 0;bottom: 0;left: 50%;z-index: -1;}#sk-container-id-2 div.sk-parallel-item {display: flex;flex-direction: column;z-index: 1;position: relative;background-color: white;}#sk-container-id-2 div.sk-parallel-item:first-child::after {align-self: flex-end;width: 50%;}#sk-container-id-2 div.sk-parallel-item:last-child::after {align-self: flex-start;width: 50%;}#sk-container-id-2 div.sk-parallel-item:only-child::after {width: 0;}#sk-container-id-2 div.sk-dashed-wrapped {border: 1px dashed gray;margin: 0 0.4em 0.5em 0.4em;box-sizing: border-box;padding-bottom: 0.4em;background-color: white;}#sk-container-id-2 div.sk-label label {font-family: monospace;font-weight: bold;display: inline-block;line-height: 1.2em;}#sk-container-id-2 div.sk-label-container {text-align: center;}#sk-container-id-2 div.sk-container {/* jupyter's `normalize.less` sets `[hidden] { display: none; }` but bootstrap.min.css set `[hidden] { display: none !important; }` so we also need the `!important` here to be able to override the default hidden behavior on the sphinx rendered scikit-learn.org. See: https://github.com/scikit-learn/scikit-learn/issues/21755 */display: inline-block !important;position: relative;}#sk-container-id-2 div.sk-text-repr-fallback {display: none;}</style><div id=\"sk-container-id-2\" class=\"sk-top-container\"><div class=\"sk-text-repr-fallback\"><pre>RandomForestClassifier()</pre><b>In a Jupyter environment, please rerun this cell to show the HTML representation or trust the notebook. <br />On GitHub, the HTML representation is unable to render, please try loading this page with nbviewer.org.</b></div><div class=\"sk-container\" hidden><div class=\"sk-item\"><div class=\"sk-estimator sk-toggleable\"><input class=\"sk-toggleable__control sk-hidden--visually\" id=\"sk-estimator-id-2\" type=\"checkbox\" checked><label for=\"sk-estimator-id-2\" class=\"sk-toggleable__label sk-toggleable__label-arrow\">RandomForestClassifier</label><div class=\"sk-toggleable__content\"><pre>RandomForestClassifier()</pre></div></div></div></div></div>"
      ],
      "text/plain": [
       "RandomForestClassifier()"
      ]
     },
     "execution_count": 103,
     "metadata": {},
     "output_type": "execute_result"
    }
   ],
   "source": [
    "rfc.fit(train_input_SMOTE,train_output_SMOTE)"
   ]
  },
  {
   "cell_type": "code",
   "execution_count": 104,
   "id": "61acf51a",
   "metadata": {},
   "outputs": [],
   "source": [
    "RFC = rfc.predict(test_input)"
   ]
  },
  {
   "cell_type": "code",
   "execution_count": 105,
   "id": "0c29bef1",
   "metadata": {},
   "outputs": [
    {
     "data": {
      "text/plain": [
       "92.75592828224407"
      ]
     },
     "execution_count": 105,
     "metadata": {},
     "output_type": "execute_result"
    }
   ],
   "source": [
    "RFC_acc= accuracy_score(test_output,RFC)*100\n",
    "RFC_acc"
   ]
  },
  {
   "cell_type": "code",
   "execution_count": 106,
   "id": "c070b28b",
   "metadata": {},
   "outputs": [
    {
     "data": {
      "text/plain": [
       "array([[6120,  206],\n",
       "       [ 295,  295]], dtype=int64)"
      ]
     },
     "execution_count": 106,
     "metadata": {},
     "output_type": "execute_result"
    }
   ],
   "source": [
    "cf_matrix_rfc = confusion_matrix(test_output, RFC)\n",
    "cf_matrix_rfc"
   ]
  },
  {
   "cell_type": "code",
   "execution_count": 107,
   "id": "15fb9ab3",
   "metadata": {},
   "outputs": [
    {
     "data": {
      "image/png": "[encoded data removed]",
      "text/plain": [
       "<Figure size 432x288 with 2 Axes>"
      ]
     },
     "metadata": {
      "needs_background": "light"
     },
     "output_type": "display_data"
    }
   ],
   "source": [
    "ax = sb.heatmap(cf_matrix_rfc, annot=True, cmap='Reds')\n",
    "\n",
    "ax.set_title('Seaborn Confusion Matrix with labels\\n\\n');\n",
    "ax.set_xlabel('\\nPredicted Values')\n",
    "ax.set_ylabel('Actual Values ');\n",
    "\n",
    "\n",
    "\n",
    "plt.show()"
   ]
  },
  {
   "cell_type": "code",
   "execution_count": 108,
   "id": "9de02c74",
   "metadata": {},
   "outputs": [
    {
     "name": "stdout",
     "output_type": "stream",
     "text": [
      "              precision    recall  f1-score   support\n",
      "\n",
      "          no       0.95      0.97      0.96      6326\n",
      "         yes       0.59      0.50      0.54       590\n",
      "\n",
      "    accuracy                           0.93      6916\n",
      "   macro avg       0.77      0.73      0.75      6916\n",
      "weighted avg       0.92      0.93      0.92      6916\n",
      "\n"
     ]
    }
   ],
   "source": [
    "print(classification_report(test_output,RFC))"
   ]
  },
  {
   "cell_type": "markdown",
   "id": "415c2450",
   "metadata": {},
   "source": [
    "# Decision tree"
   ]
  },
  {
   "cell_type": "code",
   "execution_count": 109,
   "id": "d5ac9794",
   "metadata": {},
   "outputs": [],
   "source": [
    "from sklearn.tree import DecisionTreeClassifier"
   ]
  },
  {
   "cell_type": "code",
   "execution_count": 110,
   "id": "9a1a37ee",
   "metadata": {},
   "outputs": [],
   "source": [
    "dt = DecisionTreeClassifier()"
   ]
  },
  {
   "cell_type": "code",
   "execution_count": 111,
   "id": "f86cae91",
   "metadata": {},
   "outputs": [
    {
     "data": {
      "text/html": [
       "<style>#sk-container-id-3 {color: black;background-color: white;}#sk-container-id-3 pre{padding: 0;}#sk-container-id-3 div.sk-toggleable {background-color: white;}#sk-container-id-3 label.sk-toggleable__label {cursor: pointer;display: block;width: 100%;margin-bottom: 0;padding: 0.3em;box-sizing: border-box;text-align: center;}#sk-container-id-3 label.sk-toggleable__label-arrow:before {content: \"▸\";float: left;margin-right: 0.25em;color: #696969;}#sk-container-id-3 label.sk-toggleable__label-arrow:hover:before {color: black;}#sk-container-id-3 div.sk-estimator:hover label.sk-toggleable__label-arrow:before {color: black;}#sk-container-id-3 div.sk-toggleable__content {max-height: 0;max-width: 0;overflow: hidden;text-align: left;background-color: #f0f8ff;}#sk-container-id-3 div.sk-toggleable__content pre {margin: 0.2em;color: black;border-radius: 0.25em;background-color: #f0f8ff;}#sk-container-id-3 input.sk-toggleable__control:checked~div.sk-toggleable__content {max-height: 200px;max-width: 100%;overflow: auto;}#sk-container-id-3 input.sk-toggleable__control:checked~label.sk-toggleable__label-arrow:before {content: \"▾\";}#sk-container-id-3 div.sk-estimator input.sk-toggleable__control:checked~label.sk-toggleable__label {background-color: #d4ebff;}#sk-container-id-3 div.sk-label input.sk-toggleable__control:checked~label.sk-toggleable__label {background-color: #d4ebff;}#sk-container-id-3 input.sk-hidden--visually {border: 0;clip: rect(1px 1px 1px 1px);clip: rect(1px, 1px, 1px, 1px);height: 1px;margin: -1px;overflow: hidden;padding: 0;position: absolute;width: 1px;}#sk-container-id-3 div.sk-estimator {font-family: monospace;background-color: #f0f8ff;border: 1px dotted black;border-radius: 0.25em;box-sizing: border-box;margin-bottom: 0.5em;}#sk-container-id-3 div.sk-estimator:hover {background-color: #d4ebff;}#sk-container-id-3 div.sk-parallel-item::after {content: \"\";width: 100%;border-bottom: 1px solid gray;flex-grow: 1;}#sk-container-id-3 div.sk-label:hover label.sk-toggleable__label {background-color: #d4ebff;}#sk-container-id-3 div.sk-serial::before {content: \"\";position: absolute;border-left: 1px solid gray;box-sizing: border-box;top: 0;bottom: 0;left: 50%;z-index: 0;}#sk-container-id-3 div.sk-serial {display: flex;flex-direction: column;align-items: center;background-color: white;padding-right: 0.2em;padding-left: 0.2em;position: relative;}#sk-container-id-3 div.sk-item {position: relative;z-index: 1;}#sk-container-id-3 div.sk-parallel {display: flex;align-items: stretch;justify-content: center;background-color: white;position: relative;}#sk-container-id-3 div.sk-item::before, #sk-container-id-3 div.sk-parallel-item::before {content: \"\";position: absolute;border-left: 1px solid gray;box-sizing: border-box;top: 0;bottom: 0;left: 50%;z-index: -1;}#sk-container-id-3 div.sk-parallel-item {display: flex;flex-direction: column;z-index: 1;position: relative;background-color: white;}#sk-container-id-3 div.sk-parallel-item:first-child::after {align-self: flex-end;width: 50%;}#sk-container-id-3 div.sk-parallel-item:last-child::after {align-self: flex-start;width: 50%;}#sk-container-id-3 div.sk-parallel-item:only-child::after {width: 0;}#sk-container-id-3 div.sk-dashed-wrapped {border: 1px dashed gray;margin: 0 0.4em 0.5em 0.4em;box-sizing: border-box;padding-bottom: 0.4em;background-color: white;}#sk-container-id-3 div.sk-label label {font-family: monospace;font-weight: bold;display: inline-block;line-height: 1.2em;}#sk-container-id-3 div.sk-label-container {text-align: center;}#sk-container-id-3 div.sk-container {/* jupyter's `normalize.less` sets `[hidden] { display: none; }` but bootstrap.min.css set `[hidden] { display: none !important; }` so we also need the `!important` here to be able to override the default hidden behavior on the sphinx rendered scikit-learn.org. See: https://github.com/scikit-learn/scikit-learn/issues/21755 */display: inline-block !important;position: relative;}#sk-container-id-3 div.sk-text-repr-fallback {display: none;}</style><div id=\"sk-container-id-3\" class=\"sk-top-container\"><div class=\"sk-text-repr-fallback\"><pre>DecisionTreeClassifier()</pre><b>In a Jupyter environment, please rerun this cell to show the HTML representation or trust the notebook. <br />On GitHub, the HTML representation is unable to render, please try loading this page with nbviewer.org.</b></div><div class=\"sk-container\" hidden><div class=\"sk-item\"><div class=\"sk-estimator sk-toggleable\"><input class=\"sk-toggleable__control sk-hidden--visually\" id=\"sk-estimator-id-3\" type=\"checkbox\" checked><label for=\"sk-estimator-id-3\" class=\"sk-toggleable__label sk-toggleable__label-arrow\">DecisionTreeClassifier</label><div class=\"sk-toggleable__content\"><pre>DecisionTreeClassifier()</pre></div></div></div></div></div>"
      ],
      "text/plain": [
       "DecisionTreeClassifier()"
      ]
     },
     "execution_count": 111,
     "metadata": {},
     "output_type": "execute_result"
    }
   ],
   "source": [
    "dt.fit(train_input_SMOTE,train_output_SMOTE)"
   ]
  },
  {
   "cell_type": "code",
   "execution_count": 112,
   "id": "93f64ca8",
   "metadata": {},
   "outputs": [],
   "source": [
    "DTC = dt.predict(test_input)"
   ]
  },
  {
   "cell_type": "code",
   "execution_count": 113,
   "id": "4eed2f39",
   "metadata": {},
   "outputs": [
    {
     "data": {
      "text/plain": [
       "88.95315211104685"
      ]
     },
     "execution_count": 113,
     "metadata": {},
     "output_type": "execute_result"
    }
   ],
   "source": [
    "DTC_acc= accuracy_score(test_output,DTC)*100\n",
    "DTC_acc"
   ]
  },
  {
   "cell_type": "code",
   "execution_count": 114,
   "id": "8990d51c",
   "metadata": {
    "scrolled": true
   },
   "outputs": [
    {
     "data": {
      "text/plain": [
       "array([[5853,  473],\n",
       "       [ 291,  299]], dtype=int64)"
      ]
     },
     "execution_count": 114,
     "metadata": {},
     "output_type": "execute_result"
    }
   ],
   "source": [
    "cf_matrix_dtc = confusion_matrix(test_output,DTC)\n",
    "cf_matrix_dtc"
   ]
  },
  {
   "cell_type": "code",
   "execution_count": 115,
   "id": "4864b867",
   "metadata": {},
   "outputs": [
    {
     "data": {
      "image/png": "[encoded data removed]",
      "text/plain": [
       "<Figure size 432x288 with 2 Axes>"
      ]
     },
     "metadata": {
      "needs_background": "light"
     },
     "output_type": "display_data"
    }
   ],
   "source": [
    "ax = sb.heatmap(cf_matrix_dtc, annot=True, cmap='Reds')\n",
    "\n",
    "ax.set_title('Seaborn Confusion Matrix with labels\\n\\n');\n",
    "ax.set_xlabel('\\nPredicted Values')\n",
    "ax.set_ylabel('Actual Values ');\n",
    "\n",
    "\n",
    "\n",
    "plt.show()"
   ]
  },
  {
   "cell_type": "code",
   "execution_count": 116,
   "id": "a1063503",
   "metadata": {},
   "outputs": [
    {
     "name": "stdout",
     "output_type": "stream",
     "text": [
      "              precision    recall  f1-score   support\n",
      "\n",
      "          no       0.95      0.93      0.94      6326\n",
      "         yes       0.39      0.51      0.44       590\n",
      "\n",
      "    accuracy                           0.89      6916\n",
      "   macro avg       0.67      0.72      0.69      6916\n",
      "weighted avg       0.90      0.89      0.90      6916\n",
      "\n"
     ]
    }
   ],
   "source": [
    "print(classification_report(test_output,DTC))"
   ]
  },
  {
   "cell_type": "markdown",
   "id": "1bda2593",
   "metadata": {},
   "source": [
    "# Accuracy Table"
   ]
  },
  {
   "cell_type": "code",
   "execution_count": 117,
   "id": "f5816f50",
   "metadata": {},
   "outputs": [
    {
     "data": {
      "text/html": [
       "<div>\n",
       "<style scoped>\n",
       "    .dataframe tbody tr th:only-of-type {\n",
       "        vertical-align: middle;\n",
       "    }\n",
       "\n",
       "    .dataframe tbody tr th {\n",
       "        vertical-align: top;\n",
       "    }\n",
       "\n",
       "    .dataframe thead th {\n",
       "        text-align: right;\n",
       "    }\n",
       "</style>\n",
       "<table border=\"1\" class=\"dataframe\">\n",
       "  <thead>\n",
       "    <tr style=\"text-align: right;\">\n",
       "      <th></th>\n",
       "      <th>Model</th>\n",
       "      <th>train_test_split</th>\n",
       "    </tr>\n",
       "  </thead>\n",
       "  <tbody>\n",
       "    <tr>\n",
       "      <th>0</th>\n",
       "      <td>knn</td>\n",
       "      <td>84.731058</td>\n",
       "    </tr>\n",
       "    <tr>\n",
       "      <th>1</th>\n",
       "      <td>LogisticRegression</td>\n",
       "      <td>84.152689</td>\n",
       "    </tr>\n",
       "    <tr>\n",
       "      <th>2</th>\n",
       "      <td>Random Forest</td>\n",
       "      <td>92.755928</td>\n",
       "    </tr>\n",
       "    <tr>\n",
       "      <th>3</th>\n",
       "      <td>Decision Tree</td>\n",
       "      <td>88.953152</td>\n",
       "    </tr>\n",
       "  </tbody>\n",
       "</table>\n",
       "</div>"
      ],
      "text/plain": [
       "                Model  train_test_split\n",
       "0                 knn         84.731058\n",
       "1  LogisticRegression         84.152689\n",
       "2       Random Forest         92.755928\n",
       "3       Decision Tree         88.953152"
      ]
     },
     "execution_count": 117,
     "metadata": {},
     "output_type": "execute_result"
    }
   ],
   "source": [
    "labels = [\"knn\",\"LogisticRegression\",\"Random Forest\",\"Decision Tree\"]\n",
    "x = [knn_acc,logistic_acc,RFC_acc,DTC_acc]\n",
    "eval = pd.DataFrame()\n",
    "eval['Model'] = labels\n",
    "eval['train_test_split']= x\n",
    "eval"
   ]
  },
  {
   "cell_type": "markdown",
   "id": "af00d55e",
   "metadata": {},
   "source": [
    "# K - Fold"
   ]
  },
  {
   "cell_type": "code",
   "execution_count": 118,
   "id": "b15f0473",
   "metadata": {},
   "outputs": [],
   "source": [
    "from sklearn.model_selection import KFold\n",
    "from sklearn.model_selection import cross_val_score"
   ]
  },
  {
   "cell_type": "code",
   "execution_count": 119,
   "id": "902f6900",
   "metadata": {},
   "outputs": [
    {
     "data": {
      "text/plain": [
       "array([0.98828803, 0.97064777, 0.89285714, 0.87796414, 0.73048005])"
      ]
     },
     "execution_count": 119,
     "metadata": {},
     "output_type": "execute_result"
    }
   ],
   "source": [
    "kFold = KFold(n_splits = 5) \n",
    "knn_model = KNeighborsClassifier()\n",
    "cross_val_score1 = cross_val_score(knn_model, scaled_df, y, scoring = \"accuracy\", cv = kFold)\n",
    "cross_val_score1"
   ]
  },
  {
   "cell_type": "markdown",
   "id": "d654f8fb",
   "metadata": {},
   "source": [
    "# Modeling step Test different algorithms"
   ]
  },
  {
   "cell_type": "code",
   "execution_count": 120,
   "id": "3f162576",
   "metadata": {},
   "outputs": [],
   "source": [
    "classifiers1 = []"
   ]
  },
  {
   "cell_type": "code",
   "execution_count": 121,
   "id": "1b4e30e0",
   "metadata": {},
   "outputs": [],
   "source": [
    "classifiers1.append(KNeighborsClassifier())\n",
    "classifiers1.append(LogisticRegression())\n",
    "classifiers1.append(RandomForestClassifier())\n",
    "classifiers1.append(DecisionTreeClassifier())\n",
    "\n",
    "from sklearn.model_selection import cross_val_score\n",
    "\n",
    "accuracy_results1 = []\n",
    "for a in classifiers1:\n",
    "    accuracy_results1.append(cross_val_score(a, train_input, train_output, scoring = \"accuracy\",cv = kFold))"
   ]
  },
  {
   "cell_type": "code",
   "execution_count": 122,
   "id": "288ee0df",
   "metadata": {},
   "outputs": [
    {
     "data": {
      "text/plain": [
       "[array([0.92626062, 0.92535695, 0.92951383, 0.93059823, 0.92154736]),\n",
       " array([0.93222483, 0.92842942, 0.93439364, 0.9331285 , 0.92281273]),\n",
       " array([0.93457437, 0.93222483, 0.93602024, 0.93475511, 0.93130875]),\n",
       " array([0.90981384, 0.9069221 , 0.90710284, 0.90095789, 0.90003615])]"
      ]
     },
     "execution_count": 122,
     "metadata": {},
     "output_type": "execute_result"
    }
   ],
   "source": [
    "accuracy_results1"
   ]
  },
  {
   "cell_type": "code",
   "execution_count": 123,
   "id": "abf78ab0",
   "metadata": {},
   "outputs": [
    {
     "data": {
      "text/plain": [
       "0.8920474262579526"
      ]
     },
     "execution_count": 123,
     "metadata": {},
     "output_type": "execute_result"
    }
   ],
   "source": [
    "cross_val_score1.mean()"
   ]
  },
  {
   "cell_type": "code",
   "execution_count": 124,
   "id": "d4cb0998",
   "metadata": {},
   "outputs": [
    {
     "data": {
      "text/plain": [
       "0.8920474262579526"
      ]
     },
     "execution_count": 124,
     "metadata": {},
     "output_type": "execute_result"
    }
   ],
   "source": [
    "Acc_knn_kFold = cross_val_score1.mean()\n",
    "Acc_knn_kFold"
   ]
  },
  {
   "cell_type": "code",
   "execution_count": 125,
   "id": "c5d50bc5",
   "metadata": {},
   "outputs": [
    {
     "data": {
      "text/plain": [
       "0.8958357432041643"
      ]
     },
     "execution_count": 125,
     "metadata": {},
     "output_type": "execute_result"
    }
   ],
   "source": [
    "kFold = KFold(n_splits = 7)\n",
    "Lr_model = LogisticRegression()\n",
    "cross_val_score2 = cross_val_score(Lr_model, scaled_df, y, scoring = 'accuracy', cv = kFold)\n",
    "cross_val_score2.mean()"
   ]
  },
  {
   "cell_type": "code",
   "execution_count": 126,
   "id": "eac9ddb0",
   "metadata": {},
   "outputs": [
    {
     "data": {
      "text/plain": [
       "0.8958357432041643"
      ]
     },
     "execution_count": 126,
     "metadata": {},
     "output_type": "execute_result"
    }
   ],
   "source": [
    "Lr_knn_kFold = cross_val_score2.mean()\n",
    "Lr_knn_kFold"
   ]
  },
  {
   "cell_type": "code",
   "execution_count": null,
   "id": "4e59324f",
   "metadata": {
    "scrolled": true
   },
   "outputs": [],
   "source": [
    "kFold = KFold(n_splits = 7)\n",
    "RFC_model = RandomForestClassifier(n_estimators = 1000, max_depth = 50)\n",
    "cross_val_score2 = cross_val_score(RFC_model, scaled_df, y, scoring = \"accuracy\", cv = kFold)\n",
    "RFC_knn_kFold = cross_val_score2.mean()\n",
    "RFC_knn_kFold"
   ]
  },
  {
   "cell_type": "code",
   "execution_count": null,
   "id": "a6f27787",
   "metadata": {},
   "outputs": [],
   "source": [
    "kFold = KFold(n_splits = 7)\n",
    "DTC_model = DecisionTreeClassifier()\n",
    "cross_val_score2 = cross_val_score(DTC_model, scaled_df, y, scoring = \"accuracy\", cv = kFold)\n",
    "DTC_knn_kFold = cross_val_score2.mean()\n",
    "DTC_knn_kFold"
   ]
  },
  {
   "cell_type": "code",
   "execution_count": null,
   "id": "02d56537",
   "metadata": {},
   "outputs": [],
   "source": [
    "K_Fold_accuracy = [Acc_knn_kFold, Lr_knn_kFold, RFC_knn_kFold,DTC_knn_kFold]\n",
    "eval[\"K_Fold\"] = K_Fold_accuracy\n",
    "eval "
   ]
  },
  {
   "cell_type": "code",
   "execution_count": null,
   "id": "6ef3bbc6",
   "metadata": {},
   "outputs": [],
   "source": [
    "kFold = KFold(n_splits=5)\n",
    "kFold"
   ]
  },
  {
   "cell_type": "code",
   "execution_count": null,
   "id": "53156b48",
   "metadata": {},
   "outputs": [],
   "source": [
    "from sklearn.model_selection import cross_val_score, StratifiedKFold"
   ]
  },
  {
   "cell_type": "code",
   "execution_count": null,
   "id": "c5120b74",
   "metadata": {},
   "outputs": [],
   "source": [
    "StratifiedKfold = StratifiedKFold(n_splits = 5)\n",
    "knn_StratifiedKfold_model = KNeighborsClassifier()\n",
    "cross_val_score1 = cross_val_score(knn_StratifiedKfold_model, scaled_df, y, scoring = \"accuracy\", cv = StratifiedKfold)\n",
    "cross_val_score1.mean()"
   ]
  },
  {
   "cell_type": "code",
   "execution_count": null,
   "id": "63550b9f",
   "metadata": {},
   "outputs": [],
   "source": [
    "from sklearn.model_selection import cross_val_score, StratifiedKFold\n",
    "\n",
    "StratifiedKfold = StratifiedKFold(n_splits = 5)\n",
    "\n",
    "classifiers2 = []\n",
    "classifiers2.append(KNeighborsClassifier())\n",
    "classifiers2.append(LogisticRegression())\n",
    "classifiers2.append(RandomForestClassifier())\n",
    "classifiers2.append(DecisionTreeClassifier())\n",
    "from sklearn.model_selection import cross_val_score\n",
    "\n",
    "accuracy_results2 = []\n",
    "for a in classifiers2:\n",
    "    accuracy_results2.append(cross_val_score(a, train_input, train_output, scoring = \"accuracy\",cv = kFold))\n",
    "    \n",
    "strati_k_fold_Acc = [accuracy_results2[0].mean(), accuracy_results2[1].mean(), accuracy_results2[2].mean(),accuracy_results2[3].mean()]\n",
    "eval['strati_k_fold'] = strati_k_fold_Acc\n",
    "eval"
   ]
  }
 ],
 "metadata": {
  "kernelspec": {
   "display_name": "Python 3 (ipykernel)",
   "language": "python",
   "name": "python3"
  },
  "language_info": {
   "codemirror_mode": {
    "name": "ipython",
    "version": 3
   },
   "file_extension": ".py",
   "mimetype": "text/x-python",
   "name": "python",
   "nbconvert_exporter": "python",
   "pygments_lexer": "ipython3",
   "version": "3.9.12"
  }
 },
 "nbformat": 4,
 "nbformat_minor": 5
}
